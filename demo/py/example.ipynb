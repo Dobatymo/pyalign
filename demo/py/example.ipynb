{
 "cells": [
  {
   "cell_type": "code",
   "execution_count": 1,
   "metadata": {},
   "outputs": [
    {
     "data": {
      "text/html": [
       "\n",
       "    <div class=\"bk-root\">\n",
       "        <a href=\"https://bokeh.org\" target=\"_blank\" class=\"bk-logo bk-logo-small bk-logo-notebook\"></a>\n",
       "        <span id=\"1001\">Loading BokehJS ...</span>\n",
       "    </div>"
      ]
     },
     "metadata": {},
     "output_type": "display_data"
    },
    {
     "data": {
      "application/javascript": [
       "\n",
       "(function(root) {\n",
       "  function now() {\n",
       "    return new Date();\n",
       "  }\n",
       "\n",
       "  var force = true;\n",
       "\n",
       "  if (typeof root._bokeh_onload_callbacks === \"undefined\" || force === true) {\n",
       "    root._bokeh_onload_callbacks = [];\n",
       "    root._bokeh_is_loading = undefined;\n",
       "  }\n",
       "\n",
       "  var JS_MIME_TYPE = 'application/javascript';\n",
       "  var HTML_MIME_TYPE = 'text/html';\n",
       "  var EXEC_MIME_TYPE = 'application/vnd.bokehjs_exec.v0+json';\n",
       "  var CLASS_NAME = 'output_bokeh rendered_html';\n",
       "\n",
       "  /**\n",
       "   * Render data to the DOM node\n",
       "   */\n",
       "  function render(props, node) {\n",
       "    var script = document.createElement(\"script\");\n",
       "    node.appendChild(script);\n",
       "  }\n",
       "\n",
       "  /**\n",
       "   * Handle when an output is cleared or removed\n",
       "   */\n",
       "  function handleClearOutput(event, handle) {\n",
       "    var cell = handle.cell;\n",
       "\n",
       "    var id = cell.output_area._bokeh_element_id;\n",
       "    var server_id = cell.output_area._bokeh_server_id;\n",
       "    // Clean up Bokeh references\n",
       "    if (id != null && id in Bokeh.index) {\n",
       "      Bokeh.index[id].model.document.clear();\n",
       "      delete Bokeh.index[id];\n",
       "    }\n",
       "\n",
       "    if (server_id !== undefined) {\n",
       "      // Clean up Bokeh references\n",
       "      var cmd = \"from bokeh.io.state import curstate; print(curstate().uuid_to_server['\" + server_id + \"'].get_sessions()[0].document.roots[0]._id)\";\n",
       "      cell.notebook.kernel.execute(cmd, {\n",
       "        iopub: {\n",
       "          output: function(msg) {\n",
       "            var id = msg.content.text.trim();\n",
       "            if (id in Bokeh.index) {\n",
       "              Bokeh.index[id].model.document.clear();\n",
       "              delete Bokeh.index[id];\n",
       "            }\n",
       "          }\n",
       "        }\n",
       "      });\n",
       "      // Destroy server and session\n",
       "      var cmd = \"import bokeh.io.notebook as ion; ion.destroy_server('\" + server_id + \"')\";\n",
       "      cell.notebook.kernel.execute(cmd);\n",
       "    }\n",
       "  }\n",
       "\n",
       "  /**\n",
       "   * Handle when a new output is added\n",
       "   */\n",
       "  function handleAddOutput(event, handle) {\n",
       "    var output_area = handle.output_area;\n",
       "    var output = handle.output;\n",
       "\n",
       "    // limit handleAddOutput to display_data with EXEC_MIME_TYPE content only\n",
       "    if ((output.output_type != \"display_data\") || (!Object.prototype.hasOwnProperty.call(output.data, EXEC_MIME_TYPE))) {\n",
       "      return\n",
       "    }\n",
       "\n",
       "    var toinsert = output_area.element.find(\".\" + CLASS_NAME.split(' ')[0]);\n",
       "\n",
       "    if (output.metadata[EXEC_MIME_TYPE][\"id\"] !== undefined) {\n",
       "      toinsert[toinsert.length - 1].firstChild.textContent = output.data[JS_MIME_TYPE];\n",
       "      // store reference to embed id on output_area\n",
       "      output_area._bokeh_element_id = output.metadata[EXEC_MIME_TYPE][\"id\"];\n",
       "    }\n",
       "    if (output.metadata[EXEC_MIME_TYPE][\"server_id\"] !== undefined) {\n",
       "      var bk_div = document.createElement(\"div\");\n",
       "      bk_div.innerHTML = output.data[HTML_MIME_TYPE];\n",
       "      var script_attrs = bk_div.children[0].attributes;\n",
       "      for (var i = 0; i < script_attrs.length; i++) {\n",
       "        toinsert[toinsert.length - 1].firstChild.setAttribute(script_attrs[i].name, script_attrs[i].value);\n",
       "        toinsert[toinsert.length - 1].firstChild.textContent = bk_div.children[0].textContent\n",
       "      }\n",
       "      // store reference to server id on output_area\n",
       "      output_area._bokeh_server_id = output.metadata[EXEC_MIME_TYPE][\"server_id\"];\n",
       "    }\n",
       "  }\n",
       "\n",
       "  function register_renderer(events, OutputArea) {\n",
       "\n",
       "    function append_mime(data, metadata, element) {\n",
       "      // create a DOM node to render to\n",
       "      var toinsert = this.create_output_subarea(\n",
       "        metadata,\n",
       "        CLASS_NAME,\n",
       "        EXEC_MIME_TYPE\n",
       "      );\n",
       "      this.keyboard_manager.register_events(toinsert);\n",
       "      // Render to node\n",
       "      var props = {data: data, metadata: metadata[EXEC_MIME_TYPE]};\n",
       "      render(props, toinsert[toinsert.length - 1]);\n",
       "      element.append(toinsert);\n",
       "      return toinsert\n",
       "    }\n",
       "\n",
       "    /* Handle when an output is cleared or removed */\n",
       "    events.on('clear_output.CodeCell', handleClearOutput);\n",
       "    events.on('delete.Cell', handleClearOutput);\n",
       "\n",
       "    /* Handle when a new output is added */\n",
       "    events.on('output_added.OutputArea', handleAddOutput);\n",
       "\n",
       "    /**\n",
       "     * Register the mime type and append_mime function with output_area\n",
       "     */\n",
       "    OutputArea.prototype.register_mime_type(EXEC_MIME_TYPE, append_mime, {\n",
       "      /* Is output safe? */\n",
       "      safe: true,\n",
       "      /* Index of renderer in `output_area.display_order` */\n",
       "      index: 0\n",
       "    });\n",
       "  }\n",
       "\n",
       "  // register the mime type if in Jupyter Notebook environment and previously unregistered\n",
       "  if (root.Jupyter !== undefined) {\n",
       "    var events = require('base/js/events');\n",
       "    var OutputArea = require('notebook/js/outputarea').OutputArea;\n",
       "\n",
       "    if (OutputArea.prototype.mime_types().indexOf(EXEC_MIME_TYPE) == -1) {\n",
       "      register_renderer(events, OutputArea);\n",
       "    }\n",
       "  }\n",
       "\n",
       "  \n",
       "  if (typeof (root._bokeh_timeout) === \"undefined\" || force === true) {\n",
       "    root._bokeh_timeout = Date.now() + 5000;\n",
       "    root._bokeh_failed_load = false;\n",
       "  }\n",
       "\n",
       "  var NB_LOAD_WARNING = {'data': {'text/html':\n",
       "     \"<div style='background-color: #fdd'>\\n\"+\n",
       "     \"<p>\\n\"+\n",
       "     \"BokehJS does not appear to have successfully loaded. If loading BokehJS from CDN, this \\n\"+\n",
       "     \"may be due to a slow or bad network connection. Possible fixes:\\n\"+\n",
       "     \"</p>\\n\"+\n",
       "     \"<ul>\\n\"+\n",
       "     \"<li>re-rerun `output_notebook()` to attempt to load from CDN again, or</li>\\n\"+\n",
       "     \"<li>use INLINE resources instead, as so:</li>\\n\"+\n",
       "     \"</ul>\\n\"+\n",
       "     \"<code>\\n\"+\n",
       "     \"from bokeh.resources import INLINE\\n\"+\n",
       "     \"output_notebook(resources=INLINE)\\n\"+\n",
       "     \"</code>\\n\"+\n",
       "     \"</div>\"}};\n",
       "\n",
       "  function display_loaded() {\n",
       "    var el = document.getElementById(\"1001\");\n",
       "    if (el != null) {\n",
       "      el.textContent = \"BokehJS is loading...\";\n",
       "    }\n",
       "    if (root.Bokeh !== undefined) {\n",
       "      if (el != null) {\n",
       "        el.textContent = \"BokehJS \" + root.Bokeh.version + \" successfully loaded.\";\n",
       "      }\n",
       "    } else if (Date.now() < root._bokeh_timeout) {\n",
       "      setTimeout(display_loaded, 100)\n",
       "    }\n",
       "  }\n",
       "\n",
       "\n",
       "  function run_callbacks() {\n",
       "    try {\n",
       "      root._bokeh_onload_callbacks.forEach(function(callback) {\n",
       "        if (callback != null)\n",
       "          callback();\n",
       "      });\n",
       "    } finally {\n",
       "      delete root._bokeh_onload_callbacks\n",
       "    }\n",
       "    console.debug(\"Bokeh: all callbacks have finished\");\n",
       "  }\n",
       "\n",
       "  function load_libs(css_urls, js_urls, callback) {\n",
       "    if (css_urls == null) css_urls = [];\n",
       "    if (js_urls == null) js_urls = [];\n",
       "\n",
       "    root._bokeh_onload_callbacks.push(callback);\n",
       "    if (root._bokeh_is_loading > 0) {\n",
       "      console.debug(\"Bokeh: BokehJS is being loaded, scheduling callback at\", now());\n",
       "      return null;\n",
       "    }\n",
       "    if (js_urls == null || js_urls.length === 0) {\n",
       "      run_callbacks();\n",
       "      return null;\n",
       "    }\n",
       "    console.debug(\"Bokeh: BokehJS not loaded, scheduling load and callback at\", now());\n",
       "    root._bokeh_is_loading = css_urls.length + js_urls.length;\n",
       "\n",
       "    function on_load() {\n",
       "      root._bokeh_is_loading--;\n",
       "      if (root._bokeh_is_loading === 0) {\n",
       "        console.debug(\"Bokeh: all BokehJS libraries/stylesheets loaded\");\n",
       "        run_callbacks()\n",
       "      }\n",
       "    }\n",
       "\n",
       "    function on_error(url) {\n",
       "      console.error(\"failed to load \" + url);\n",
       "    }\n",
       "\n",
       "    for (let i = 0; i < css_urls.length; i++) {\n",
       "      const url = css_urls[i];\n",
       "      const element = document.createElement(\"link\");\n",
       "      element.onload = on_load;\n",
       "      element.onerror = on_error.bind(null, url);\n",
       "      element.rel = \"stylesheet\";\n",
       "      element.type = \"text/css\";\n",
       "      element.href = url;\n",
       "      console.debug(\"Bokeh: injecting link tag for BokehJS stylesheet: \", url);\n",
       "      document.body.appendChild(element);\n",
       "    }\n",
       "\n",
       "    const hashes = {\"https://cdn.bokeh.org/bokeh/release/bokeh-2.3.2.min.js\": \"XypntL49z55iwGVUW4qsEu83zKL3XEcz0MjuGOQ9SlaaQ68X/g+k1FcioZi7oQAc\", \"https://cdn.bokeh.org/bokeh/release/bokeh-tables-2.3.2.min.js\": \"bEsM86IHGDTLCS0Zod8a8WM6Y4+lafAL/eSiyQcuPzinmWNgNO2/olUF0Z2Dkn5i\", \"https://cdn.bokeh.org/bokeh/release/bokeh-widgets-2.3.2.min.js\": \"TX0gSQTdXTTeScqxj6PVQxTiRW8DOoGVwinyi1D3kxv7wuxQ02XkOxv0xwiypcAH\"};\n",
       "\n",
       "    for (let i = 0; i < js_urls.length; i++) {\n",
       "      const url = js_urls[i];\n",
       "      const element = document.createElement('script');\n",
       "      element.onload = on_load;\n",
       "      element.onerror = on_error.bind(null, url);\n",
       "      element.async = false;\n",
       "      element.src = url;\n",
       "      if (url in hashes) {\n",
       "        element.crossOrigin = \"anonymous\";\n",
       "        element.integrity = \"sha384-\" + hashes[url];\n",
       "      }\n",
       "      console.debug(\"Bokeh: injecting script tag for BokehJS library: \", url);\n",
       "      document.head.appendChild(element);\n",
       "    }\n",
       "  };\n",
       "\n",
       "  function inject_raw_css(css) {\n",
       "    const element = document.createElement(\"style\");\n",
       "    element.appendChild(document.createTextNode(css));\n",
       "    document.body.appendChild(element);\n",
       "  }\n",
       "\n",
       "  \n",
       "  var js_urls = [\"https://cdn.bokeh.org/bokeh/release/bokeh-2.3.2.min.js\", \"https://cdn.bokeh.org/bokeh/release/bokeh-widgets-2.3.2.min.js\", \"https://cdn.bokeh.org/bokeh/release/bokeh-tables-2.3.2.min.js\"];\n",
       "  var css_urls = [];\n",
       "  \n",
       "\n",
       "  var inline_js = [\n",
       "    function(Bokeh) {\n",
       "      Bokeh.set_log_level(\"info\");\n",
       "    },\n",
       "    function(Bokeh) {\n",
       "    \n",
       "    \n",
       "    }\n",
       "  ];\n",
       "\n",
       "  function run_inline_js() {\n",
       "    \n",
       "    if (root.Bokeh !== undefined || force === true) {\n",
       "      \n",
       "    for (var i = 0; i < inline_js.length; i++) {\n",
       "      inline_js[i].call(root, root.Bokeh);\n",
       "    }\n",
       "    if (force === true) {\n",
       "        display_loaded();\n",
       "      }} else if (Date.now() < root._bokeh_timeout) {\n",
       "      setTimeout(run_inline_js, 100);\n",
       "    } else if (!root._bokeh_failed_load) {\n",
       "      console.log(\"Bokeh: BokehJS failed to load within specified timeout.\");\n",
       "      root._bokeh_failed_load = true;\n",
       "    } else if (force !== true) {\n",
       "      var cell = $(document.getElementById(\"1001\")).parents('.cell').data().cell;\n",
       "      cell.output_area.append_execute_result(NB_LOAD_WARNING)\n",
       "    }\n",
       "\n",
       "  }\n",
       "\n",
       "  if (root._bokeh_is_loading === 0) {\n",
       "    console.debug(\"Bokeh: BokehJS loaded, going straight to plotting\");\n",
       "    run_inline_js();\n",
       "  } else {\n",
       "    load_libs(css_urls, js_urls, function() {\n",
       "      console.debug(\"Bokeh: BokehJS plotting callback run at\", now());\n",
       "      run_inline_js();\n",
       "    });\n",
       "  }\n",
       "}(window));"
      ],
      "application/vnd.bokehjs_load.v0+json": "\n(function(root) {\n  function now() {\n    return new Date();\n  }\n\n  var force = true;\n\n  if (typeof root._bokeh_onload_callbacks === \"undefined\" || force === true) {\n    root._bokeh_onload_callbacks = [];\n    root._bokeh_is_loading = undefined;\n  }\n\n  \n\n  \n  if (typeof (root._bokeh_timeout) === \"undefined\" || force === true) {\n    root._bokeh_timeout = Date.now() + 5000;\n    root._bokeh_failed_load = false;\n  }\n\n  var NB_LOAD_WARNING = {'data': {'text/html':\n     \"<div style='background-color: #fdd'>\\n\"+\n     \"<p>\\n\"+\n     \"BokehJS does not appear to have successfully loaded. If loading BokehJS from CDN, this \\n\"+\n     \"may be due to a slow or bad network connection. Possible fixes:\\n\"+\n     \"</p>\\n\"+\n     \"<ul>\\n\"+\n     \"<li>re-rerun `output_notebook()` to attempt to load from CDN again, or</li>\\n\"+\n     \"<li>use INLINE resources instead, as so:</li>\\n\"+\n     \"</ul>\\n\"+\n     \"<code>\\n\"+\n     \"from bokeh.resources import INLINE\\n\"+\n     \"output_notebook(resources=INLINE)\\n\"+\n     \"</code>\\n\"+\n     \"</div>\"}};\n\n  function display_loaded() {\n    var el = document.getElementById(\"1001\");\n    if (el != null) {\n      el.textContent = \"BokehJS is loading...\";\n    }\n    if (root.Bokeh !== undefined) {\n      if (el != null) {\n        el.textContent = \"BokehJS \" + root.Bokeh.version + \" successfully loaded.\";\n      }\n    } else if (Date.now() < root._bokeh_timeout) {\n      setTimeout(display_loaded, 100)\n    }\n  }\n\n\n  function run_callbacks() {\n    try {\n      root._bokeh_onload_callbacks.forEach(function(callback) {\n        if (callback != null)\n          callback();\n      });\n    } finally {\n      delete root._bokeh_onload_callbacks\n    }\n    console.debug(\"Bokeh: all callbacks have finished\");\n  }\n\n  function load_libs(css_urls, js_urls, callback) {\n    if (css_urls == null) css_urls = [];\n    if (js_urls == null) js_urls = [];\n\n    root._bokeh_onload_callbacks.push(callback);\n    if (root._bokeh_is_loading > 0) {\n      console.debug(\"Bokeh: BokehJS is being loaded, scheduling callback at\", now());\n      return null;\n    }\n    if (js_urls == null || js_urls.length === 0) {\n      run_callbacks();\n      return null;\n    }\n    console.debug(\"Bokeh: BokehJS not loaded, scheduling load and callback at\", now());\n    root._bokeh_is_loading = css_urls.length + js_urls.length;\n\n    function on_load() {\n      root._bokeh_is_loading--;\n      if (root._bokeh_is_loading === 0) {\n        console.debug(\"Bokeh: all BokehJS libraries/stylesheets loaded\");\n        run_callbacks()\n      }\n    }\n\n    function on_error(url) {\n      console.error(\"failed to load \" + url);\n    }\n\n    for (let i = 0; i < css_urls.length; i++) {\n      const url = css_urls[i];\n      const element = document.createElement(\"link\");\n      element.onload = on_load;\n      element.onerror = on_error.bind(null, url);\n      element.rel = \"stylesheet\";\n      element.type = \"text/css\";\n      element.href = url;\n      console.debug(\"Bokeh: injecting link tag for BokehJS stylesheet: \", url);\n      document.body.appendChild(element);\n    }\n\n    const hashes = {\"https://cdn.bokeh.org/bokeh/release/bokeh-2.3.2.min.js\": \"XypntL49z55iwGVUW4qsEu83zKL3XEcz0MjuGOQ9SlaaQ68X/g+k1FcioZi7oQAc\", \"https://cdn.bokeh.org/bokeh/release/bokeh-tables-2.3.2.min.js\": \"bEsM86IHGDTLCS0Zod8a8WM6Y4+lafAL/eSiyQcuPzinmWNgNO2/olUF0Z2Dkn5i\", \"https://cdn.bokeh.org/bokeh/release/bokeh-widgets-2.3.2.min.js\": \"TX0gSQTdXTTeScqxj6PVQxTiRW8DOoGVwinyi1D3kxv7wuxQ02XkOxv0xwiypcAH\"};\n\n    for (let i = 0; i < js_urls.length; i++) {\n      const url = js_urls[i];\n      const element = document.createElement('script');\n      element.onload = on_load;\n      element.onerror = on_error.bind(null, url);\n      element.async = false;\n      element.src = url;\n      if (url in hashes) {\n        element.crossOrigin = \"anonymous\";\n        element.integrity = \"sha384-\" + hashes[url];\n      }\n      console.debug(\"Bokeh: injecting script tag for BokehJS library: \", url);\n      document.head.appendChild(element);\n    }\n  };\n\n  function inject_raw_css(css) {\n    const element = document.createElement(\"style\");\n    element.appendChild(document.createTextNode(css));\n    document.body.appendChild(element);\n  }\n\n  \n  var js_urls = [\"https://cdn.bokeh.org/bokeh/release/bokeh-2.3.2.min.js\", \"https://cdn.bokeh.org/bokeh/release/bokeh-widgets-2.3.2.min.js\", \"https://cdn.bokeh.org/bokeh/release/bokeh-tables-2.3.2.min.js\"];\n  var css_urls = [];\n  \n\n  var inline_js = [\n    function(Bokeh) {\n      Bokeh.set_log_level(\"info\");\n    },\n    function(Bokeh) {\n    \n    \n    }\n  ];\n\n  function run_inline_js() {\n    \n    if (root.Bokeh !== undefined || force === true) {\n      \n    for (var i = 0; i < inline_js.length; i++) {\n      inline_js[i].call(root, root.Bokeh);\n    }\n    if (force === true) {\n        display_loaded();\n      }} else if (Date.now() < root._bokeh_timeout) {\n      setTimeout(run_inline_js, 100);\n    } else if (!root._bokeh_failed_load) {\n      console.log(\"Bokeh: BokehJS failed to load within specified timeout.\");\n      root._bokeh_failed_load = true;\n    } else if (force !== true) {\n      var cell = $(document.getElementById(\"1001\")).parents('.cell').data().cell;\n      cell.output_area.append_execute_result(NB_LOAD_WARNING)\n    }\n\n  }\n\n  if (root._bokeh_is_loading === 0) {\n    console.debug(\"Bokeh: BokehJS loaded, going straight to plotting\");\n    run_inline_js();\n  } else {\n    load_libs(css_urls, js_urls, function() {\n      console.debug(\"Bokeh: BokehJS plotting callback run at\", now());\n      run_inline_js();\n    });\n  }\n}(window));"
     },
     "metadata": {},
     "output_type": "display_data"
    }
   ],
   "source": [
    "import bokeh.io\n",
    "\n",
    "bokeh.io.output_notebook()"
   ]
  },
  {
   "cell_type": "code",
   "execution_count": 2,
   "metadata": {},
   "outputs": [
    {
     "data": {
      "text/html": [
       "\n",
       "\n",
       "\n",
       "\n",
       "\n",
       "\n",
       "  <div class=\"bk-root\" id=\"69a04caf-3796-401f-9787-a9e1e42c5f9c\" data-root-id=\"1003\"></div>\n"
      ]
     },
     "metadata": {},
     "output_type": "display_data"
    },
    {
     "data": {
      "application/javascript": [
       "(function(root) {\n",
       "  function embed_document(root) {\n",
       "    \n",
       "  var docs_json = {\"bee582ae-faef-4d09-acf1-1f8e8d1bfa9e\":{\"defs\":[],\"roots\":{\"references\":[{\"attributes\":{\"above\":[{\"id\":\"1013\"}],\"center\":[{\"id\":\"1016\"},{\"id\":\"1020\"},{\"id\":\"1051\"},{\"id\":\"1056\"},{\"id\":\"1060\"}],\"height\":170,\"left\":[{\"id\":\"1017\"}],\"renderers\":[{\"id\":\"1038\"},{\"id\":\"1043\"},{\"id\":\"1047\"}],\"title\":null,\"toolbar\":{\"id\":\"1028\"},\"toolbar_location\":null,\"width\":250,\"x_range\":{\"id\":\"1005\"},\"x_scale\":{\"id\":\"1009\"},\"y_range\":{\"id\":\"1007\"},\"y_scale\":{\"id\":\"1011\"}},\"id\":\"1003\",\"subtype\":\"Figure\",\"type\":\"Plot\"},{\"attributes\":{},\"id\":\"1026\",\"type\":\"HelpTool\"},{\"attributes\":{\"data_source\":{\"id\":\"1035\"},\"glyph\":{\"id\":\"1036\"},\"hover_glyph\":null,\"muted_glyph\":null,\"nonselection_glyph\":{\"id\":\"1037\"},\"view\":{\"id\":\"1039\"}},\"id\":\"1038\",\"type\":\"GlyphRenderer\"},{\"attributes\":{},\"id\":\"1081\",\"type\":\"Selection\"},{\"attributes\":{},\"id\":\"1082\",\"type\":\"UnionRenderers\"},{\"attributes\":{\"data\":{\"color\":[\"gray\",\"gray\",\"gray\",\"gray\",\"gray\",\"gray\",\"black\",\"black\",\"black\",\"black\",\"gray\",\"black\",\"black\",\"black\",\"black\"],\"value\":[\"0.0\",\"5.0\",\"6.0\",\"7.0\",\"8.0\",\"5.0\",\"1.0\",\"5.0\",\"6.0\",\"8.0\",\"6.0\",\"6.0\",\"1.0\",\"5.0\",\"7.0\"],\"x\":[0,1,2,3,4,0,1,2,3,4,0,1,2,3,4],\"y\":[0,0,0,0,0,1,1,1,1,1,2,2,2,2,2]},\"selected\":{\"id\":\"1075\"},\"selection_policy\":{\"id\":\"1076\"}},\"id\":\"1059\",\"type\":\"ColumnDataSource\"},{\"attributes\":{\"source\":{\"id\":\"1059\"},\"text\":{\"field\":\"value\"},\"text_align\":{\"value\":\"center\"},\"text_baseline\":{\"value\":\"middle\"},\"text_color\":{\"field\":\"color\"},\"text_font_size\":{\"value\":\"9pt\"},\"x\":{\"field\":\"x\"},\"y\":{\"field\":\"y\"}},\"id\":\"1060\",\"type\":\"LabelSet\"},{\"attributes\":{\"axis\":{\"id\":\"1017\"},\"dimension\":1,\"grid_line_color\":null,\"ticker\":null},\"id\":\"1020\",\"type\":\"Grid\"},{\"attributes\":{\"data_source\":{\"id\":\"1045\"},\"glyph\":{\"id\":\"1046\"},\"hover_glyph\":null,\"muted_glyph\":null,\"view\":{\"id\":\"1048\"}},\"id\":\"1047\",\"type\":\"GlyphRenderer\"},{\"attributes\":{\"line_color\":{\"value\":\"lightgray\"},\"line_width\":{\"value\":2},\"xs\":{\"field\":\"xs\"},\"ys\":{\"field\":\"ys\"}},\"id\":\"1036\",\"type\":\"MultiLine\"},{\"attributes\":{\"flipped\":true},\"id\":\"1007\",\"type\":\"DataRange1d\"},{\"attributes\":{\"active_multi\":null,\"tools\":[{\"id\":\"1021\"},{\"id\":\"1022\"},{\"id\":\"1023\"},{\"id\":\"1024\"},{\"id\":\"1025\"},{\"id\":\"1026\"}]},\"id\":\"1028\",\"type\":\"Toolbar\"},{\"attributes\":{},\"id\":\"1022\",\"type\":\"WheelZoomTool\"},{\"attributes\":{\"ticks\":[1,2]},\"id\":\"1064\",\"type\":\"FixedTicker\"},{\"attributes\":{},\"id\":\"1021\",\"type\":\"PanTool\"},{\"attributes\":{\"axis\":{\"id\":\"1013\"},\"grid_line_color\":null,\"ticker\":null},\"id\":\"1016\",\"type\":\"Grid\"},{\"attributes\":{\"overlay\":{\"id\":\"1027\"}},\"id\":\"1023\",\"type\":\"BoxZoomTool\"},{\"attributes\":{\"line_alpha\":{\"value\":0.1},\"line_color\":{\"value\":\"lightgray\"},\"line_width\":{\"value\":2},\"xs\":{\"field\":\"xs\"},\"ys\":{\"field\":\"ys\"}},\"id\":\"1037\",\"type\":\"MultiLine\"},{\"attributes\":{},\"id\":\"1024\",\"type\":\"SaveTool\"},{\"attributes\":{},\"id\":\"1071\",\"type\":\"Selection\"},{\"attributes\":{},\"id\":\"1025\",\"type\":\"ResetTool\"},{\"attributes\":{},\"id\":\"1077\",\"type\":\"Selection\"},{\"attributes\":{\"data\":{\"xs\":[[0.5,0.5],[1.5,1.5],[2.5,2.5],[3.5,3.5],[4.5,4.5]],\"ys\":[[-0.5,2.5],[-0.5,2.5],[-0.5,2.5],[-0.5,2.5],[-0.5,2.5]]},\"selected\":{\"id\":\"1079\"},\"selection_policy\":{\"id\":\"1080\"}},\"id\":\"1040\",\"type\":\"ColumnDataSource\"},{\"attributes\":{},\"id\":\"1072\",\"type\":\"UnionRenderers\"},{\"attributes\":{},\"id\":\"1078\",\"type\":\"UnionRenderers\"},{\"attributes\":{\"source\":{\"id\":\"1035\"}},\"id\":\"1039\",\"type\":\"CDSView\"},{\"attributes\":{\"data\":{\"height\":[1,1],\"width\":[1,1],\"x\":{\"__ndarray__\":\"BAADAA==\",\"dtype\":\"int16\",\"order\":\"little\",\"shape\":[2]},\"y\":{\"__ndarray__\":\"AgABAA==\",\"dtype\":\"int16\",\"order\":\"little\",\"shape\":[2]}},\"selected\":{\"id\":\"1081\"},\"selection_policy\":{\"id\":\"1082\"}},\"id\":\"1045\",\"type\":\"ColumnDataSource\"},{\"attributes\":{\"data_source\":{\"id\":\"1040\"},\"glyph\":{\"id\":\"1041\"},\"hover_glyph\":null,\"muted_glyph\":null,\"nonselection_glyph\":{\"id\":\"1042\"},\"view\":{\"id\":\"1044\"}},\"id\":\"1043\",\"type\":\"GlyphRenderer\"},{\"attributes\":{},\"id\":\"1073\",\"type\":\"Selection\"},{\"attributes\":{\"line_color\":{\"value\":\"lightgray\"},\"line_width\":{\"value\":2},\"xs\":{\"field\":\"xs\"},\"ys\":{\"field\":\"ys\"}},\"id\":\"1041\",\"type\":\"MultiLine\"},{\"attributes\":{},\"id\":\"1074\",\"type\":\"UnionRenderers\"},{\"attributes\":{\"source\":{\"id\":\"1040\"}},\"id\":\"1044\",\"type\":\"CDSView\"},{\"attributes\":{\"ticks\":[1,2,3,4]},\"id\":\"1062\",\"type\":\"FixedTicker\"},{\"attributes\":{\"data\":{\"xs\":[[-0.5,4.5],[-0.5,4.5],[-0.5,4.5]],\"ys\":[[0.5,0.5],[1.5,1.5],[2.5,2.5]]},\"selected\":{\"id\":\"1077\"},\"selection_policy\":{\"id\":\"1078\"}},\"id\":\"1035\",\"type\":\"ColumnDataSource\"},{\"attributes\":{},\"id\":\"1075\",\"type\":\"Selection\"},{\"attributes\":{},\"id\":\"1005\",\"type\":\"DataRange1d\"},{\"attributes\":{\"formatter\":{\"id\":\"1069\"},\"major_label_overrides\":{\"1\":\"C\",\"2\":\"C\"},\"major_label_policy\":{\"id\":\"1070\"},\"ticker\":{\"id\":\"1064\"}},\"id\":\"1017\",\"type\":\"LinearAxis\"},{\"attributes\":{\"line_alpha\":{\"value\":0.1},\"line_color\":{\"value\":\"lightgray\"},\"line_width\":{\"value\":2},\"xs\":{\"field\":\"xs\"},\"ys\":{\"field\":\"ys\"}},\"id\":\"1042\",\"type\":\"MultiLine\"},{\"attributes\":{\"formatter\":{\"id\":\"1067\"},\"major_label_overrides\":{\"1\":\"A\",\"2\":\"C\",\"3\":\"C\",\"4\":\"T\"},\"major_label_policy\":{\"id\":\"1068\"},\"ticker\":{\"id\":\"1062\"}},\"id\":\"1013\",\"type\":\"LinearAxis\"},{\"attributes\":{\"end\":{\"id\":\"1050\"},\"line_color\":{\"value\":\"blue\"},\"source\":{\"id\":\"1049\"},\"start\":null,\"x_end\":{\"field\":\"x_end\"},\"x_start\":{\"field\":\"x_start\"},\"y_end\":{\"field\":\"y_end\"},\"y_start\":{\"field\":\"y_start\"}},\"id\":\"1051\",\"type\":\"Arrow\"},{\"attributes\":{},\"id\":\"1067\",\"type\":\"BasicTickFormatter\"},{\"attributes\":{},\"id\":\"1009\",\"type\":\"LinearScale\"},{\"attributes\":{},\"id\":\"1068\",\"type\":\"AllLabels\"},{\"attributes\":{},\"id\":\"1076\",\"type\":\"UnionRenderers\"},{\"attributes\":{},\"id\":\"1011\",\"type\":\"LinearScale\"},{\"attributes\":{\"fill_alpha\":{\"value\":0.25},\"fill_color\":{\"value\":\"orange\"},\"height\":{\"field\":\"height\"},\"line_color\":{\"value\":null},\"width\":{\"field\":\"width\"},\"x\":{\"field\":\"x\"},\"y\":{\"field\":\"y\"}},\"id\":\"1046\",\"type\":\"Rect\"},{\"attributes\":{},\"id\":\"1079\",\"type\":\"Selection\"},{\"attributes\":{\"source\":{\"id\":\"1045\"}},\"id\":\"1048\",\"type\":\"CDSView\"},{\"attributes\":{\"bottom_units\":\"screen\",\"fill_alpha\":0.5,\"fill_color\":\"lightgrey\",\"left_units\":\"screen\",\"level\":\"overlay\",\"line_alpha\":1.0,\"line_color\":\"black\",\"line_dash\":[4,4],\"line_width\":2,\"right_units\":\"screen\",\"syncable\":false,\"top_units\":\"screen\"},\"id\":\"1027\",\"type\":\"BoxAnnotation\"},{\"attributes\":{},\"id\":\"1080\",\"type\":\"UnionRenderers\"},{\"attributes\":{\"data\":{\"x_end\":{\"__ndarray__\":\"AAAA6Hl52z8AAAB6Xt72PwAAAD0vbwNAAAAAPS9vC0AAAAAAAADwPwAAAOh5eds/AAAAAAAA8D8AAAB6Xt72PwAAAD0vbwNAAAAAPS9vC0AAAAAAAAAAQA==\",\"dtype\":\"float64\",\"order\":\"little\",\"shape\":[11]},\"x_start\":{\"__ndarray__\":\"AAAADEND4j8AAACGoSH5PwAAAMPQkARAAAAAw9CQDEAAAAAAAAAQQAAAAAxDQ+I/AAAAAAAA8D8AAACGoSH5PwAAAMPQkARAAAAAw9CQDEAAAAAAAAAQQA==\",\"dtype\":\"float64\",\"order\":\"little\",\"shape\":[11]},\"y_end\":{\"__ndarray__\":\"AAAA6Hl52z8AAADoeXnbPwAAAOh5eds/AAAA6Hl52z8AAAAAAADwPwAAAHpe3vY/AAAAZmZm9j8AAAB6Xt72PwAAAHpe3vY/AAAAel7e9j8AAAAAAAAAQA==\",\"dtype\":\"float64\",\"order\":\"little\",\"shape\":[11]},\"y_start\":{\"__ndarray__\":\"AAAADEND4j8AAAAMQ0PiPwAAAAxDQ+I/AAAADEND4j8AAAAAAADwPwAAAIahIfk/AAAAmpmZ+T8AAACGoSH5PwAAAIahIfk/AAAAhqEh+T8AAAAAAAAAQA==\",\"dtype\":\"float64\",\"order\":\"little\",\"shape\":[11]}},\"selected\":{\"id\":\"1071\"},\"selection_policy\":{\"id\":\"1072\"}},\"id\":\"1049\",\"type\":\"ColumnDataSource\"},{\"attributes\":{},\"id\":\"1069\",\"type\":\"BasicTickFormatter\"},{\"attributes\":{\"line_alpha\":{\"value\":0.5},\"line_color\":{\"value\":\"blue\"},\"size\":{\"value\":5}},\"id\":\"1050\",\"type\":\"OpenHead\"},{\"attributes\":{},\"id\":\"1070\",\"type\":\"AllLabels\"},{\"attributes\":{\"line_color\":{\"value\":\"orange\"},\"size\":{\"value\":5}},\"id\":\"1055\",\"type\":\"OpenHead\"},{\"attributes\":{\"data\":{\"x_end\":{\"__ndarray__\":\"AAAAel7eCkA=\",\"dtype\":\"float64\",\"order\":\"little\",\"shape\":[1]},\"x_start\":{\"__ndarray__\":\"AAAAhqEhDUA=\",\"dtype\":\"float64\",\"order\":\"little\",\"shape\":[1]},\"y_end\":{\"__ndarray__\":\"AAAA9Ly89T8=\",\"dtype\":\"float64\",\"order\":\"little\",\"shape\":[1]},\"y_start\":{\"__ndarray__\":\"AAAADEND+j8=\",\"dtype\":\"float64\",\"order\":\"little\",\"shape\":[1]}},\"selected\":{\"id\":\"1073\"},\"selection_policy\":{\"id\":\"1074\"}},\"id\":\"1054\",\"type\":\"ColumnDataSource\"},{\"attributes\":{\"end\":{\"id\":\"1055\"},\"line_color\":{\"value\":\"orange\"},\"line_width\":{\"value\":2},\"source\":{\"id\":\"1054\"},\"start\":null,\"x_end\":{\"field\":\"x_end\"},\"x_start\":{\"field\":\"x_start\"},\"y_end\":{\"field\":\"y_end\"},\"y_start\":{\"field\":\"y_start\"}},\"id\":\"1056\",\"type\":\"Arrow\"}],\"root_ids\":[\"1003\"]},\"title\":\"Bokeh Application\",\"version\":\"2.3.2\"}};\n",
       "  var render_items = [{\"docid\":\"bee582ae-faef-4d09-acf1-1f8e8d1bfa9e\",\"root_ids\":[\"1003\"],\"roots\":{\"1003\":\"69a04caf-3796-401f-9787-a9e1e42c5f9c\"}}];\n",
       "  root.Bokeh.embed.embed_items_notebook(docs_json, render_items);\n",
       "\n",
       "  }\n",
       "  if (root.Bokeh !== undefined) {\n",
       "    embed_document(root);\n",
       "  } else {\n",
       "    var attempts = 0;\n",
       "    var timer = setInterval(function(root) {\n",
       "      if (root.Bokeh !== undefined) {\n",
       "        clearInterval(timer);\n",
       "        embed_document(root);\n",
       "      } else {\n",
       "        attempts++;\n",
       "        if (attempts > 100) {\n",
       "          clearInterval(timer);\n",
       "          console.log(\"Bokeh: ERROR: Unable to run BokehJS code because BokehJS library is missing\");\n",
       "        }\n",
       "      }\n",
       "    }, 10, root)\n",
       "  }\n",
       "})(window);"
      ],
      "application/vnd.bokehjs_exec.v0+json": ""
     },
     "metadata": {
      "application/vnd.bokehjs_exec.v0+json": {
       "id": "1003"
      }
     },
     "output_type": "display_data"
    }
   ],
   "source": [
    "import pyalign.utils\n",
    "import pyalign.solve\n",
    "import pyalign.gaps\n",
    "\n",
    "pf = pyalign.utils.SimpleProblemFactory(pyalign.utils.BinarySimilarity(eq=0, ne=1))\n",
    "problem = pf.new_problem(\"CC\", \"ACCT\", direction=\"minimize\")\n",
    "\n",
    "solver = pyalign.solve.GlobalSolver(\n",
    "    gap_cost=pyalign.gaps.AffineGapCost(4, 1),\n",
    "    direction=\"minimize\",\n",
    "    generate=\"solutions\")\n",
    "\n",
    "solution = solver.solve(problem)\n",
    "solution.display(0)"
   ]
  },
  {
   "cell_type": "code",
   "execution_count": 3,
   "metadata": {},
   "outputs": [
    {
     "data": {
      "text/plain": [
       "1"
      ]
     },
     "execution_count": 3,
     "metadata": {},
     "output_type": "execute_result"
    }
   ],
   "source": [
    "solver.batch_size"
   ]
  },
  {
   "cell_type": "code",
   "execution_count": 4,
   "metadata": {},
   "outputs": [
    {
     "data": {
      "text/plain": [
       "{'build_matrix': '23630 ns', 'solve': '75648 ns'}"
      ]
     },
     "execution_count": 4,
     "metadata": {},
     "output_type": "execute_result"
    }
   ],
   "source": [
    "solver.times"
   ]
  },
  {
   "cell_type": "code",
   "execution_count": 5,
   "metadata": {},
   "outputs": [
    {
     "data": {
      "text/plain": [
       "(3, 3, 5)"
      ]
     },
     "execution_count": 5,
     "metadata": {},
     "output_type": "execute_result"
    }
   ],
   "source": [
    "solution.shape"
   ]
  },
  {
   "cell_type": "code",
   "execution_count": 6,
   "metadata": {},
   "outputs": [
    {
     "data": {
      "text/plain": [
       "[array([[[ 0,  0],\n",
       "         [-1, -1]],\n",
       " \n",
       "        [[ 0,  1],\n",
       "         [-1,  0]],\n",
       " \n",
       "        [[ 0,  2],\n",
       "         [-1,  1]],\n",
       " \n",
       "        [[ 0,  3],\n",
       "         [-1,  2]],\n",
       " \n",
       "        [[ 0,  3],\n",
       "         [ 0,  0]],\n",
       " \n",
       "        [[ 1,  0],\n",
       "         [ 0, -1]],\n",
       " \n",
       "        [[ 1,  0],\n",
       "         [ 0,  0]],\n",
       " \n",
       "        [[ 1,  1],\n",
       "         [ 0,  0]],\n",
       " \n",
       "        [[ 1,  2],\n",
       "         [ 0,  1]],\n",
       " \n",
       "        [[ 1,  3],\n",
       "         [ 0,  2]],\n",
       " \n",
       "        [[ 1,  3],\n",
       "         [ 1,  1]]], dtype=int16),\n",
       " array([[[ 0,  0],\n",
       "         [-1,  0]],\n",
       " \n",
       "        [[ 0,  1],\n",
       "         [-1,  1]],\n",
       " \n",
       "        [[ 0,  2],\n",
       "         [-1,  2]],\n",
       " \n",
       "        [[ 0,  3],\n",
       "         [-1,  3]],\n",
       " \n",
       "        [[ 1,  0],\n",
       "         [ 0,  0]],\n",
       " \n",
       "        [[ 1,  1],\n",
       "         [ 0,  1]],\n",
       " \n",
       "        [[ 1,  2],\n",
       "         [ 0,  2]],\n",
       " \n",
       "        [[ 1,  3],\n",
       "         [ 0,  3]]], dtype=int16),\n",
       " array([[[ 0,  0],\n",
       "         [ 0, -1]],\n",
       " \n",
       "        [[ 0,  1],\n",
       "         [ 0,  0]],\n",
       " \n",
       "        [[ 0,  2],\n",
       "         [ 0,  0]],\n",
       " \n",
       "        [[ 0,  3],\n",
       "         [ 0,  0]],\n",
       " \n",
       "        [[ 1,  0],\n",
       "         [ 1, -1]],\n",
       " \n",
       "        [[ 1,  1],\n",
       "         [ 1,  0]],\n",
       " \n",
       "        [[ 1,  2],\n",
       "         [ 1,  1]],\n",
       " \n",
       "        [[ 1,  3],\n",
       "         [ 1,  1]]], dtype=int16)]"
      ]
     },
     "execution_count": 6,
     "metadata": {},
     "output_type": "execute_result"
    }
   ],
   "source": [
    "solution.traceback(\"edges\")"
   ]
  },
  {
   "cell_type": "code",
   "execution_count": 7,
   "metadata": {},
   "outputs": [
    {
     "name": "stdout",
     "output_type": "stream",
     "text": [
      "  CC\n",
      "  ||\n",
      "ACCT\n"
     ]
    }
   ],
   "source": [
    "solution.alignment"
   ]
  },
  {
   "cell_type": "code",
   "execution_count": 8,
   "metadata": {},
   "outputs": [
    {
     "data": {
      "text/html": [
       "\n",
       "\n",
       "\n",
       "\n",
       "\n",
       "\n",
       "  <div class=\"bk-root\" id=\"0b76080c-fa5e-4eb4-8530-0f7612210177\" data-root-id=\"1174\"></div>\n"
      ]
     },
     "metadata": {},
     "output_type": "display_data"
    },
    {
     "data": {
      "application/javascript": [
       "(function(root) {\n",
       "  function embed_document(root) {\n",
       "    \n",
       "  var docs_json = {\"bd2f85c1-ed6d-4544-9ff0-d55c7e826455\":{\"defs\":[],\"roots\":{\"references\":[{\"attributes\":{\"above\":[{\"id\":\"1184\"}],\"center\":[{\"id\":\"1187\"},{\"id\":\"1191\"},{\"id\":\"1222\"},{\"id\":\"1227\"},{\"id\":\"1231\"}],\"height\":410,\"left\":[{\"id\":\"1188\"}],\"renderers\":[{\"id\":\"1209\"},{\"id\":\"1214\"},{\"id\":\"1218\"}],\"title\":null,\"toolbar\":{\"id\":\"1199\"},\"toolbar_location\":null,\"width\":410,\"x_range\":{\"id\":\"1176\"},\"x_scale\":{\"id\":\"1180\"},\"y_range\":{\"id\":\"1178\"},\"y_scale\":{\"id\":\"1182\"}},\"id\":\"1174\",\"subtype\":\"Figure\",\"type\":\"Plot\"},{\"attributes\":{},\"id\":\"1262\",\"type\":\"Selection\"},{\"attributes\":{},\"id\":\"1264\",\"type\":\"Selection\"},{\"attributes\":{\"line_alpha\":{\"value\":0.5},\"line_color\":{\"value\":\"blue\"},\"size\":{\"value\":5}},\"id\":\"1221\",\"type\":\"OpenHead\"},{\"attributes\":{},\"id\":\"1271\",\"type\":\"UnionRenderers\"},{\"attributes\":{},\"id\":\"1263\",\"type\":\"UnionRenderers\"},{\"attributes\":{\"bottom_units\":\"screen\",\"fill_alpha\":0.5,\"fill_color\":\"lightgrey\",\"left_units\":\"screen\",\"level\":\"overlay\",\"line_alpha\":1.0,\"line_color\":\"black\",\"line_dash\":[4,4],\"line_width\":2,\"right_units\":\"screen\",\"syncable\":false,\"top_units\":\"screen\"},\"id\":\"1198\",\"type\":\"BoxAnnotation\"},{\"attributes\":{\"line_color\":{\"value\":\"orange\"},\"size\":{\"value\":5}},\"id\":\"1226\",\"type\":\"OpenHead\"},{\"attributes\":{\"end\":{\"id\":\"1226\"},\"line_color\":{\"value\":\"orange\"},\"line_width\":{\"value\":2},\"source\":{\"id\":\"1225\"},\"start\":null,\"x_end\":{\"field\":\"x_end\"},\"x_start\":{\"field\":\"x_start\"},\"y_end\":{\"field\":\"y_end\"},\"y_start\":{\"field\":\"y_start\"}},\"id\":\"1227\",\"type\":\"Arrow\"},{\"attributes\":{\"data\":{\"x_end\":{\"__ndarray__\":\"AAAAAAAAIEAAAAAAAAAgQAAAAD0vbx1AAAAAPS9vGUAAAAAAAAAYQAAAAAAAABhAAAAAMzMzFUAAAAAzMzMRQAAAAGZmZgpAAAAAZmZmAkAAAAD0vLz1Pw==\",\"dtype\":\"float64\",\"order\":\"little\",\"shape\":[11]},\"x_start\":{\"__ndarray__\":\"AAAAAAAAIEAAAAAAAAAgQAAAAMPQkB5AAAAAw9CQGkAAAAAAAAAYQAAAAAAAABhAAAAAzczMFkAAAADNzMwSQAAAAJqZmQ1AAAAAmpmZBUAAAAAMQ0P6Pw==\",\"dtype\":\"float64\",\"order\":\"little\",\"shape\":[11]},\"y_end\":{\"__ndarray__\":\"AAAAMzMzHUAAAAAzMzMZQAAAAD0vbxVAAAAAPS9vEUAAAABmZmYKQAAAAGZmZgJAAAAAAAAAAEAAAAAAAAAAQAAAAAAAAABAAAAAAAAAAEAAAAD0vLz1Pw==\",\"dtype\":\"float64\",\"order\":\"little\",\"shape\":[11]},\"y_start\":{\"__ndarray__\":\"AAAAzczMHkAAAADNzMwaQAAAAMPQkBZAAAAAw9CQEkAAAACamZkNQAAAAJqZmQVAAAAAAAAAAEAAAAAAAAAAQAAAAAAAAABAAAAAAAAAAEAAAAAMQ0P6Pw==\",\"dtype\":\"float64\",\"order\":\"little\",\"shape\":[11]}},\"selected\":{\"id\":\"1262\"},\"selection_policy\":{\"id\":\"1263\"}},\"id\":\"1225\",\"type\":\"ColumnDataSource\"},{\"attributes\":{\"active_multi\":null,\"tools\":[{\"id\":\"1192\"},{\"id\":\"1193\"},{\"id\":\"1194\"},{\"id\":\"1195\"},{\"id\":\"1196\"},{\"id\":\"1197\"}]},\"id\":\"1199\",\"type\":\"Toolbar\"},{\"attributes\":{},\"id\":\"1270\",\"type\":\"Selection\"},{\"attributes\":{\"ticks\":[1,2,3,4,5,6,7,8]},\"id\":\"1233\",\"type\":\"FixedTicker\"},{\"attributes\":{},\"id\":\"1256\",\"type\":\"AllLabels\"},{\"attributes\":{},\"id\":\"1266\",\"type\":\"Selection\"},{\"attributes\":{},\"id\":\"1257\",\"type\":\"BasicTickFormatter\"},{\"attributes\":{\"data\":{\"color\":[\"gray\",\"gray\",\"gray\",\"gray\",\"gray\",\"gray\",\"gray\",\"gray\",\"gray\",\"gray\",\"black\",\"black\",\"black\",\"black\",\"black\",\"black\",\"black\",\"black\",\"gray\",\"black\",\"black\",\"black\",\"black\",\"black\",\"black\",\"black\",\"black\",\"gray\",\"black\",\"black\",\"black\",\"black\",\"black\",\"black\",\"black\",\"black\",\"gray\",\"black\",\"black\",\"black\",\"black\",\"black\",\"black\",\"black\",\"black\",\"gray\",\"black\",\"black\",\"black\",\"black\",\"black\",\"black\",\"black\",\"black\",\"gray\",\"black\",\"black\",\"black\",\"black\",\"black\",\"black\",\"black\",\"black\",\"gray\",\"black\",\"black\",\"black\",\"black\",\"black\",\"black\",\"black\",\"black\",\"gray\",\"black\",\"black\",\"black\",\"black\",\"black\",\"black\",\"black\",\"black\"],\"value\":[\"-0.0\",\"-0.2\",\"-0.4\",\"-0.6\",\"-0.8\",\"-1.0\",\"-1.2\",\"-1.4\",\"-1.6\",\"-0.2\",\"1.0\",\"0.8\",\"0.6\",\"0.4\",\"0.2\",\"0.0\",\"-0.2\",\"-0.4\",\"-0.4\",\"0.8\",\"2.0\",\"1.8\",\"1.6\",\"1.4\",\"1.2\",\"1.0\",\"0.8\",\"-0.6\",\"0.6\",\"1.8\",\"1.6\",\"1.4\",\"1.2\",\"1.0\",\"0.8\",\"0.6\",\"-0.8\",\"0.4\",\"1.6\",\"1.4\",\"1.2\",\"1.0\",\"0.8\",\"0.6\",\"0.4\",\"-1.0\",\"0.2\",\"1.4\",\"1.2\",\"1.0\",\"0.8\",\"0.6\",\"1.8\",\"1.6\",\"-1.2\",\"0.0\",\"1.2\",\"2.4\",\"2.2\",\"2.0\",\"1.8\",\"1.6\",\"2.8\",\"-1.4\",\"-0.2\",\"1.0\",\"2.2\",\"2.0\",\"3.2\",\"3.0\",\"2.8\",\"2.6\",\"-1.6\",\"-0.4\",\"0.8\",\"2.0\",\"1.8\",\"3.0\",\"2.8\",\"2.6\",\"2.4\"],\"x\":[0,1,2,3,4,5,6,7,8,0,1,2,3,4,5,6,7,8,0,1,2,3,4,5,6,7,8,0,1,2,3,4,5,6,7,8,0,1,2,3,4,5,6,7,8,0,1,2,3,4,5,6,7,8,0,1,2,3,4,5,6,7,8,0,1,2,3,4,5,6,7,8,0,1,2,3,4,5,6,7,8],\"y\":[0,0,0,0,0,0,0,0,0,1,1,1,1,1,1,1,1,1,2,2,2,2,2,2,2,2,2,3,3,3,3,3,3,3,3,3,4,4,4,4,4,4,4,4,4,5,5,5,5,5,5,5,5,5,6,6,6,6,6,6,6,6,6,7,7,7,7,7,7,7,7,7,8,8,8,8,8,8,8,8,8]},\"selected\":{\"id\":\"1264\"},\"selection_policy\":{\"id\":\"1265\"}},\"id\":\"1230\",\"type\":\"ColumnDataSource\"},{\"attributes\":{\"source\":{\"id\":\"1230\"},\"text\":{\"field\":\"value\"},\"text_align\":{\"value\":\"center\"},\"text_baseline\":{\"value\":\"middle\"},\"text_color\":{\"field\":\"color\"},\"text_font_size\":{\"value\":\"9pt\"},\"x\":{\"field\":\"x\"},\"y\":{\"field\":\"y\"}},\"id\":\"1231\",\"type\":\"LabelSet\"},{\"attributes\":{\"data\":{\"height\":[1,1,1,1,1,1,1,1,1,1,1,1],\"width\":[1,1,1,1,1,1,1,1,1,1,1,1],\"x\":{\"__ndarray__\":\"CAAIAAgABwAGAAYABgAFAAQAAwACAAEA\",\"dtype\":\"int16\",\"order\":\"little\",\"shape\":[12]},\"y\":{\"__ndarray__\":\"CAAHAAYABQAEAAMAAgACAAIAAgACAAEA\",\"dtype\":\"int16\",\"order\":\"little\",\"shape\":[12]}},\"selected\":{\"id\":\"1270\"},\"selection_policy\":{\"id\":\"1271\"}},\"id\":\"1216\",\"type\":\"ColumnDataSource\"},{\"attributes\":{},\"id\":\"1267\",\"type\":\"UnionRenderers\"},{\"attributes\":{\"data_source\":{\"id\":\"1206\"},\"glyph\":{\"id\":\"1207\"},\"hover_glyph\":null,\"muted_glyph\":null,\"nonselection_glyph\":{\"id\":\"1208\"},\"view\":{\"id\":\"1210\"}},\"id\":\"1209\",\"type\":\"GlyphRenderer\"},{\"attributes\":{},\"id\":\"1176\",\"type\":\"DataRange1d\"},{\"attributes\":{\"data\":{\"xs\":[[-0.5,8.5],[-0.5,8.5],[-0.5,8.5],[-0.5,8.5],[-0.5,8.5],[-0.5,8.5],[-0.5,8.5],[-0.5,8.5],[-0.5,8.5]],\"ys\":[[0.5,0.5],[1.5,1.5],[2.5,2.5],[3.5,3.5],[4.5,4.5],[5.5,5.5],[6.5,6.5],[7.5,7.5],[8.5,8.5]]},\"selected\":{\"id\":\"1266\"},\"selection_policy\":{\"id\":\"1267\"}},\"id\":\"1206\",\"type\":\"ColumnDataSource\"},{\"attributes\":{\"formatter\":{\"id\":\"1257\"},\"major_label_overrides\":{\"1\":\"I\",\"2\":\"N\",\"3\":\"T\",\"4\":\"E\",\"5\":\"R\",\"6\":\"E\",\"7\":\"S\",\"8\":\"T\"},\"major_label_policy\":{\"id\":\"1256\"},\"ticker\":{\"id\":\"1233\"}},\"id\":\"1184\",\"type\":\"LinearAxis\"},{\"attributes\":{},\"id\":\"1182\",\"type\":\"LinearScale\"},{\"attributes\":{\"formatter\":{\"id\":\"1259\"},\"major_label_overrides\":{\"1\":\"I\",\"2\":\"N\",\"3\":\"D\",\"4\":\"U\",\"5\":\"S\",\"6\":\"T\",\"7\":\"R\",\"8\":\"Y\"},\"major_label_policy\":{\"id\":\"1258\"},\"ticker\":{\"id\":\"1235\"}},\"id\":\"1188\",\"type\":\"LinearAxis\"},{\"attributes\":{},\"id\":\"1180\",\"type\":\"LinearScale\"},{\"attributes\":{},\"id\":\"1195\",\"type\":\"SaveTool\"},{\"attributes\":{\"overlay\":{\"id\":\"1198\"}},\"id\":\"1194\",\"type\":\"BoxZoomTool\"},{\"attributes\":{\"flipped\":true},\"id\":\"1178\",\"type\":\"DataRange1d\"},{\"attributes\":{},\"id\":\"1196\",\"type\":\"ResetTool\"},{\"attributes\":{\"ticks\":[1,2,3,4,5,6,7,8]},\"id\":\"1235\",\"type\":\"FixedTicker\"},{\"attributes\":{},\"id\":\"1192\",\"type\":\"PanTool\"},{\"attributes\":{\"line_alpha\":{\"value\":0.1},\"line_color\":{\"value\":\"lightgray\"},\"line_width\":{\"value\":2},\"xs\":{\"field\":\"xs\"},\"ys\":{\"field\":\"ys\"}},\"id\":\"1208\",\"type\":\"MultiLine\"},{\"attributes\":{\"axis\":{\"id\":\"1184\"},\"grid_line_color\":null,\"ticker\":null},\"id\":\"1187\",\"type\":\"Grid\"},{\"attributes\":{\"data_source\":{\"id\":\"1211\"},\"glyph\":{\"id\":\"1212\"},\"hover_glyph\":null,\"muted_glyph\":null,\"nonselection_glyph\":{\"id\":\"1213\"},\"view\":{\"id\":\"1215\"}},\"id\":\"1214\",\"type\":\"GlyphRenderer\"},{\"attributes\":{\"source\":{\"id\":\"1206\"}},\"id\":\"1210\",\"type\":\"CDSView\"},{\"attributes\":{},\"id\":\"1268\",\"type\":\"Selection\"},{\"attributes\":{\"line_color\":{\"value\":\"lightgray\"},\"line_width\":{\"value\":2},\"xs\":{\"field\":\"xs\"},\"ys\":{\"field\":\"ys\"}},\"id\":\"1207\",\"type\":\"MultiLine\"},{\"attributes\":{\"axis\":{\"id\":\"1188\"},\"dimension\":1,\"grid_line_color\":null,\"ticker\":null},\"id\":\"1191\",\"type\":\"Grid\"},{\"attributes\":{},\"id\":\"1258\",\"type\":\"AllLabels\"},{\"attributes\":{},\"id\":\"1197\",\"type\":\"HelpTool\"},{\"attributes\":{\"line_color\":{\"value\":\"lightgray\"},\"line_width\":{\"value\":2},\"xs\":{\"field\":\"xs\"},\"ys\":{\"field\":\"ys\"}},\"id\":\"1212\",\"type\":\"MultiLine\"},{\"attributes\":{},\"id\":\"1269\",\"type\":\"UnionRenderers\"},{\"attributes\":{\"data\":{\"xs\":[[0.5,0.5],[1.5,1.5],[2.5,2.5],[3.5,3.5],[4.5,4.5],[5.5,5.5],[6.5,6.5],[7.5,7.5],[8.5,8.5]],\"ys\":[[-0.5,8.5],[-0.5,8.5],[-0.5,8.5],[-0.5,8.5],[-0.5,8.5],[-0.5,8.5],[-0.5,8.5],[-0.5,8.5],[-0.5,8.5]]},\"selected\":{\"id\":\"1268\"},\"selection_policy\":{\"id\":\"1269\"}},\"id\":\"1211\",\"type\":\"ColumnDataSource\"},{\"attributes\":{},\"id\":\"1259\",\"type\":\"BasicTickFormatter\"},{\"attributes\":{},\"id\":\"1193\",\"type\":\"WheelZoomTool\"},{\"attributes\":{\"source\":{\"id\":\"1211\"}},\"id\":\"1215\",\"type\":\"CDSView\"},{\"attributes\":{\"data_source\":{\"id\":\"1216\"},\"glyph\":{\"id\":\"1217\"},\"hover_glyph\":null,\"muted_glyph\":null,\"view\":{\"id\":\"1219\"}},\"id\":\"1218\",\"type\":\"GlyphRenderer\"},{\"attributes\":{},\"id\":\"1260\",\"type\":\"Selection\"},{\"attributes\":{\"end\":{\"id\":\"1221\"},\"line_color\":{\"value\":\"blue\"},\"source\":{\"id\":\"1220\"},\"start\":null,\"x_end\":{\"field\":\"x_end\"},\"x_start\":{\"field\":\"x_start\"},\"y_end\":{\"field\":\"y_end\"},\"y_start\":{\"field\":\"y_start\"}},\"id\":\"1222\",\"type\":\"Arrow\"},{\"attributes\":{\"line_alpha\":{\"value\":0.1},\"line_color\":{\"value\":\"lightgray\"},\"line_width\":{\"value\":2},\"xs\":{\"field\":\"xs\"},\"ys\":{\"field\":\"ys\"}},\"id\":\"1213\",\"type\":\"MultiLine\"},{\"attributes\":{\"data\":{\"x_end\":{\"__ndarray__\":\"ZmZmZmZm9j8zMzMzMzMDQDMzMzMzMwtAmpmZmZmZEUCamZmZmZkVQJqZmZmZmRlAmpmZmZmZHUAAAAAAAADwP5qZmZmZmRlAmpmZmZmZHUAAAAAAAADwPwAAAAAAAABAAAAAAAAACEAAAAAAAAAQQAAAAAAAABRAAAAAAAAAHEAAAAAAAAAgQAAAAAAAAPA/AAAAAAAAAEAAAAAAAAAIQAAAAAAAABBAAAAAAAAAFEAAAAAAAAAcQAAAAAAAACBAAAAAAAAA8D8AAAAAAAAAQAAAAAAAAAhAAAAAAAAAEEAAAAAAAAAUQAAAAAAAABhAmpmZmZmZHUAAAAAAAADwPwAAAAAAAABA6ARwPS9vA0AzMzMzMzMLQJqZmZmZmRFAmpmZmZmZFUAAAAAAAAAcQAAAAAAAAPA/AAAAAAAAAEAAAAAAAAAIQAAAAAAAABBAdAK4npe3EUCamZmZmZkVQJqZmZmZmRlAAAAAAAAA8D8AAAAAAAAAQAAAAAAAAAhAAAAAAAAAEEAAAAAAAAAUQAAAAAAAABhAAAAAAAAAHEA=\",\"dtype\":\"float64\",\"order\":\"little\",\"shape\":[52]},\"x_start\":{\"__ndarray__\":\"mpmZmZmZ+T/NzMzMzMwEQM3MzMzMzAxAZmZmZmZmEkBmZmZmZmYWQGZmZmZmZhpAZmZmZmZmHkAAAAAAAADwP2ZmZmZmZhpAZmZmZmZmHkAAAAAAAADwPwAAAAAAAABAAAAAAAAACEAAAAAAAAAQQAAAAAAAABRAAAAAAAAAHEAAAAAAAAAgQAAAAAAAAPA/AAAAAAAAAEAAAAAAAAAIQAAAAAAAABBAAAAAAAAAFEAAAAAAAAAcQAAAAAAAACBAAAAAAAAA8D8AAAAAAAAAQAAAAAAAAAhAAAAAAAAAEEAAAAAAAAAUQAAAAAAAABhAZmZmZmZmHkAAAAAAAADwPwAAAAAAAABAGPuPwtCQBEDNzMzMzMwMQGZmZmZmZhJAZmZmZmZmFkAAAAAAAAAcQAAAAAAAAPA/AAAAAAAAAEAAAAAAAAAIQAAAAAAAABBAjP1HYWhIEkBmZmZmZmYWQGZmZmZmZhpAAAAAAAAA8D8AAAAAAAAAQAAAAAAAAAhAAAAAAAAAEEAAAAAAAAAUQAAAAAAAABhAAAAAAAAAHEA=\",\"dtype\":\"float64\",\"order\":\"little\",\"shape\":[52]},\"y_end\":{\"__ndarray__\":\"AAAAAAAA8D8AAAAAAADwPwAAAAAAAPA/AAAAAAAA8D8AAAAAAADwPwAAAAAAAPA/AAAAAAAA8D9mZmZmZmb2PwAAAAAAAABAAAAAAAAAAEAzMzMzMzMDQDMzMzMzMwNAMzMzMzMzA0AzMzMzMzMDQDMzMzMzMwNAMzMzMzMzA0AzMzMzMzMDQDMzMzMzMwtAMzMzMzMzC0AzMzMzMzMLQDMzMzMzMwtAMzMzMzMzC0AzMzMzMzMLQDMzMzMzMwtAmpmZmZmZEUCamZmZmZkRQJqZmZmZmRFAmpmZmZmZEUCamZmZmZkRQJqZmZmZmRFAAAAAAAAAFECamZmZmZkVQJqZmZmZmRVAdAK4npe3FUAAAAAAAAAYQAAAAAAAABhAAAAAAAAAGECamZmZmZkVQJqZmZmZmRlAmpmZmZmZGUCamZmZmZkZQJqZmZmZmRlAdAK4npe3GUAAAAAAAAAcQAAAAAAAABxAmpmZmZmZHUCamZmZmZkdQJqZmZmZmR1AmpmZmZmZHUCamZmZmZkdQJqZmZmZmR1AmpmZmZmZHUA=\",\"dtype\":\"float64\",\"order\":\"little\",\"shape\":[52]},\"y_start\":{\"__ndarray__\":\"AAAAAAAA8D8AAAAAAADwPwAAAAAAAPA/AAAAAAAA8D8AAAAAAADwPwAAAAAAAPA/AAAAAAAA8D+amZmZmZn5PwAAAAAAAABAAAAAAAAAAEDNzMzMzMwEQM3MzMzMzARAzczMzMzMBEDNzMzMzMwEQM3MzMzMzARAzczMzMzMBEDNzMzMzMwEQM3MzMzMzAxAzczMzMzMDEDNzMzMzMwMQM3MzMzMzAxAzczMzMzMDEDNzMzMzMwMQM3MzMzMzAxAZmZmZmZmEkBmZmZmZmYSQGZmZmZmZhJAZmZmZmZmEkBmZmZmZmYSQGZmZmZmZhJAAAAAAAAAFEBmZmZmZmYWQGZmZmZmZhZAjP1HYWhIFkAAAAAAAAAYQAAAAAAAABhAAAAAAAAAGEBmZmZmZmYWQGZmZmZmZhpAZmZmZmZmGkBmZmZmZmYaQGZmZmZmZhpAjP1HYWhIGkAAAAAAAAAcQAAAAAAAABxAZmZmZmZmHkBmZmZmZmYeQGZmZmZmZh5AZmZmZmZmHkBmZmZmZmYeQGZmZmZmZh5AZmZmZmZmHkA=\",\"dtype\":\"float64\",\"order\":\"little\",\"shape\":[52]}},\"selected\":{\"id\":\"1260\"},\"selection_policy\":{\"id\":\"1261\"}},\"id\":\"1220\",\"type\":\"ColumnDataSource\"},{\"attributes\":{},\"id\":\"1261\",\"type\":\"UnionRenderers\"},{\"attributes\":{\"fill_alpha\":{\"value\":0.25},\"fill_color\":{\"value\":\"orange\"},\"height\":{\"field\":\"height\"},\"line_color\":{\"value\":null},\"width\":{\"field\":\"width\"},\"x\":{\"field\":\"x\"},\"y\":{\"field\":\"y\"}},\"id\":\"1217\",\"type\":\"Rect\"},{\"attributes\":{},\"id\":\"1265\",\"type\":\"UnionRenderers\"},{\"attributes\":{\"source\":{\"id\":\"1216\"}},\"id\":\"1219\",\"type\":\"CDSView\"}],\"root_ids\":[\"1174\"]},\"title\":\"Bokeh Application\",\"version\":\"2.3.2\"}};\n",
       "  var render_items = [{\"docid\":\"bd2f85c1-ed6d-4544-9ff0-d55c7e826455\",\"root_ids\":[\"1174\"],\"roots\":{\"1174\":\"0b76080c-fa5e-4eb4-8530-0f7612210177\"}}];\n",
       "  root.Bokeh.embed.embed_items_notebook(docs_json, render_items);\n",
       "\n",
       "  }\n",
       "  if (root.Bokeh !== undefined) {\n",
       "    embed_document(root);\n",
       "  } else {\n",
       "    var attempts = 0;\n",
       "    var timer = setInterval(function(root) {\n",
       "      if (root.Bokeh !== undefined) {\n",
       "        clearInterval(timer);\n",
       "        embed_document(root);\n",
       "      } else {\n",
       "        attempts++;\n",
       "        if (attempts > 100) {\n",
       "          clearInterval(timer);\n",
       "          console.log(\"Bokeh: ERROR: Unable to run BokehJS code because BokehJS library is missing\");\n",
       "        }\n",
       "      }\n",
       "    }, 10, root)\n",
       "  }\n",
       "})(window);"
      ],
      "application/vnd.bokehjs_exec.v0+json": ""
     },
     "metadata": {
      "application/vnd.bokehjs_exec.v0+json": {
       "id": "1174"
      }
     },
     "output_type": "display_data"
    }
   ],
   "source": [
    "import pyalign.utils\n",
    "import pyalign.solve\n",
    "import pyalign.gaps\n",
    "\n",
    "pf = pyalign.utils.SimpleProblemFactory(pyalign.utils.BinarySimilarity(eq=1, ne=-1))\n",
    "solver = pyalign.solve.GlobalSolver(gap_cost=pyalign.gaps.LinearGapCost(0.2), generate=\"solution\")\n",
    "problem = pf.new_problem(\"INDUSTRY\", \"INTEREST\")\n",
    "alignment = solver.solve(problem)\n",
    "alignment"
   ]
  },
  {
   "cell_type": "code",
   "execution_count": null,
   "metadata": {},
   "outputs": [],
   "source": []
  },
  {
   "cell_type": "code",
   "execution_count": 7,
   "metadata": {},
   "outputs": [
    {
     "data": {
      "text/plain": [
       "2.3999996185302734"
      ]
     },
     "execution_count": 7,
     "metadata": {},
     "output_type": "execute_result"
    }
   ],
   "source": [
    "alignment.score"
   ]
  },
  {
   "cell_type": "code",
   "execution_count": 16,
   "metadata": {},
   "outputs": [
    {
     "name": "stdout",
     "output_type": "stream",
     "text": [
      "CPU times: user 101 µs, sys: 0 ns, total: 101 µs\n",
      "Wall time: 104 µs\n"
     ]
    },
    {
     "data": {
      "text/html": [
       "\n",
       "\n",
       "\n",
       "\n",
       "\n",
       "\n",
       "  <div class=\"bk-root\" id=\"b1f1fe44-4376-4498-9344-0ec46dcf22e9\" data-root-id=\"3874\"></div>\n"
      ]
     },
     "metadata": {},
     "output_type": "display_data"
    },
    {
     "data": {
      "application/javascript": [
       "(function(root) {\n",
       "  function embed_document(root) {\n",
       "    \n",
       "  var docs_json = {\"82bf0041-2141-4a09-b409-bb033c276d28\":{\"defs\":[],\"roots\":{\"references\":[{\"attributes\":{\"above\":[{\"id\":\"3884\"}],\"center\":[{\"id\":\"3887\"},{\"id\":\"3891\"},{\"id\":\"3922\"},{\"id\":\"3927\"},{\"id\":\"3931\"}],\"height\":410,\"left\":[{\"id\":\"3888\"}],\"renderers\":[{\"id\":\"3909\"},{\"id\":\"3914\"},{\"id\":\"3918\"}],\"title\":null,\"toolbar\":{\"id\":\"3899\"},\"toolbar_location\":null,\"width\":410,\"x_range\":{\"id\":\"3876\"},\"x_scale\":{\"id\":\"3880\"},\"y_range\":{\"id\":\"3878\"},\"y_scale\":{\"id\":\"3882\"}},\"id\":\"3874\",\"subtype\":\"Figure\",\"type\":\"Plot\"},{\"attributes\":{\"overlay\":{\"id\":\"3898\"}},\"id\":\"3894\",\"type\":\"BoxZoomTool\"},{\"attributes\":{\"data\":{\"xs\":[[-0.5,8.5],[-0.5,8.5],[-0.5,8.5],[-0.5,8.5],[-0.5,8.5],[-0.5,8.5],[-0.5,8.5],[-0.5,8.5],[-0.5,8.5]],\"ys\":[[0.5,0.5],[1.5,1.5],[2.5,2.5],[3.5,3.5],[4.5,4.5],[5.5,5.5],[6.5,6.5],[7.5,7.5],[8.5,8.5]]},\"selected\":{\"id\":\"4147\"},\"selection_policy\":{\"id\":\"4148\"}},\"id\":\"3906\",\"type\":\"ColumnDataSource\"},{\"attributes\":{},\"id\":\"3895\",\"type\":\"SaveTool\"},{\"attributes\":{\"line_alpha\":{\"value\":0.1},\"line_color\":{\"value\":\"lightgray\"},\"line_width\":{\"value\":2},\"xs\":{\"field\":\"xs\"},\"ys\":{\"field\":\"ys\"}},\"id\":\"3908\",\"type\":\"MultiLine\"},{\"attributes\":{},\"id\":\"3896\",\"type\":\"ResetTool\"},{\"attributes\":{\"data\":{\"height\":[1,1,1,1,1,1,1,1,1,1,1,1],\"width\":[1,1,1,1,1,1,1,1,1,1,1,1],\"x\":{\"__ndarray__\":\"CAAIAAgABwAGAAYABgAFAAQAAwACAAEA\",\"dtype\":\"int16\",\"order\":\"little\",\"shape\":[12]},\"y\":{\"__ndarray__\":\"CAAHAAYABQAEAAMAAgACAAIAAgACAAEA\",\"dtype\":\"int16\",\"order\":\"little\",\"shape\":[12]}},\"selected\":{\"id\":\"4151\"},\"selection_policy\":{\"id\":\"4152\"}},\"id\":\"3916\",\"type\":\"ColumnDataSource\"},{\"attributes\":{\"source\":{\"id\":\"3906\"}},\"id\":\"3910\",\"type\":\"CDSView\"},{\"attributes\":{},\"id\":\"4142\",\"type\":\"Selection\"},{\"attributes\":{\"line_color\":{\"value\":\"lightgray\"},\"line_width\":{\"value\":2},\"xs\":{\"field\":\"xs\"},\"ys\":{\"field\":\"ys\"}},\"id\":\"3907\",\"type\":\"MultiLine\"},{\"attributes\":{},\"id\":\"4143\",\"type\":\"UnionRenderers\"},{\"attributes\":{\"data_source\":{\"id\":\"3911\"},\"glyph\":{\"id\":\"3912\"},\"hover_glyph\":null,\"muted_glyph\":null,\"nonselection_glyph\":{\"id\":\"3913\"},\"view\":{\"id\":\"3915\"}},\"id\":\"3914\",\"type\":\"GlyphRenderer\"},{\"attributes\":{\"data\":{\"xs\":[[0.5,0.5],[1.5,1.5],[2.5,2.5],[3.5,3.5],[4.5,4.5],[5.5,5.5],[6.5,6.5],[7.5,7.5],[8.5,8.5]],\"ys\":[[-0.5,8.5],[-0.5,8.5],[-0.5,8.5],[-0.5,8.5],[-0.5,8.5],[-0.5,8.5],[-0.5,8.5],[-0.5,8.5],[-0.5,8.5]]},\"selected\":{\"id\":\"4149\"},\"selection_policy\":{\"id\":\"4150\"}},\"id\":\"3911\",\"type\":\"ColumnDataSource\"},{\"attributes\":{},\"id\":\"4137\",\"type\":\"BasicTickFormatter\"},{\"attributes\":{\"line_color\":{\"value\":\"lightgray\"},\"line_width\":{\"value\":2},\"xs\":{\"field\":\"xs\"},\"ys\":{\"field\":\"ys\"}},\"id\":\"3912\",\"type\":\"MultiLine\"},{\"attributes\":{},\"id\":\"4144\",\"type\":\"Selection\"},{\"attributes\":{\"source\":{\"id\":\"3911\"}},\"id\":\"3915\",\"type\":\"CDSView\"},{\"attributes\":{\"data_source\":{\"id\":\"3906\"},\"glyph\":{\"id\":\"3907\"},\"hover_glyph\":null,\"muted_glyph\":null,\"nonselection_glyph\":{\"id\":\"3908\"},\"view\":{\"id\":\"3910\"}},\"id\":\"3909\",\"type\":\"GlyphRenderer\"},{\"attributes\":{\"data_source\":{\"id\":\"3916\"},\"glyph\":{\"id\":\"3917\"},\"hover_glyph\":null,\"muted_glyph\":null,\"view\":{\"id\":\"3919\"}},\"id\":\"3918\",\"type\":\"GlyphRenderer\"},{\"attributes\":{},\"id\":\"4145\",\"type\":\"UnionRenderers\"},{\"attributes\":{},\"id\":\"4149\",\"type\":\"Selection\"},{\"attributes\":{},\"id\":\"4136\",\"type\":\"AllLabels\"},{\"attributes\":{},\"id\":\"4150\",\"type\":\"UnionRenderers\"},{\"attributes\":{\"end\":{\"id\":\"3921\"},\"line_color\":{\"value\":\"blue\"},\"source\":{\"id\":\"3920\"},\"start\":null,\"x_end\":{\"field\":\"x_end\"},\"x_start\":{\"field\":\"x_start\"},\"y_end\":{\"field\":\"y_end\"},\"y_start\":{\"field\":\"y_start\"}},\"id\":\"3922\",\"type\":\"Arrow\"},{\"attributes\":{\"line_alpha\":{\"value\":0.1},\"line_color\":{\"value\":\"lightgray\"},\"line_width\":{\"value\":2},\"xs\":{\"field\":\"xs\"},\"ys\":{\"field\":\"ys\"}},\"id\":\"3913\",\"type\":\"MultiLine\"},{\"attributes\":{\"data\":{\"x_end\":{\"__ndarray__\":\"ZmZmZmZm9j8zMzMzMzMDQDMzMzMzMwtAmpmZmZmZEUCamZmZmZkVQJqZmZmZmRlAmpmZmZmZHUAAAAAAAADwP5qZmZmZmRlAmpmZmZmZHUAAAAAAAADwPwAAAAAAAABAAAAAAAAACEAAAAAAAAAQQAAAAAAAABRAAAAAAAAAHEAAAAAAAAAgQAAAAAAAAPA/AAAAAAAAAEAAAAAAAAAIQAAAAAAAABBAAAAAAAAAFEAAAAAAAAAcQAAAAAAAACBAAAAAAAAA8D8AAAAAAAAAQAAAAAAAAAhAAAAAAAAAEEAAAAAAAAAUQAAAAAAAABhAmpmZmZmZHUAAAAAAAADwPwAAAAAAAABA6ARwPS9vA0AzMzMzMzMLQJqZmZmZmRFAmpmZmZmZFUAAAAAAAAAcQAAAAAAAAPA/AAAAAAAAAEAAAAAAAAAIQAAAAAAAABBAdAK4npe3EUCamZmZmZkVQJqZmZmZmRlAAAAAAAAA8D8AAAAAAAAAQAAAAAAAAAhAAAAAAAAAEEAAAAAAAAAUQAAAAAAAABhAAAAAAAAAHEA=\",\"dtype\":\"float64\",\"order\":\"little\",\"shape\":[52]},\"x_start\":{\"__ndarray__\":\"mpmZmZmZ+T/NzMzMzMwEQM3MzMzMzAxAZmZmZmZmEkBmZmZmZmYWQGZmZmZmZhpAZmZmZmZmHkAAAAAAAADwP2ZmZmZmZhpAZmZmZmZmHkAAAAAAAADwPwAAAAAAAABAAAAAAAAACEAAAAAAAAAQQAAAAAAAABRAAAAAAAAAHEAAAAAAAAAgQAAAAAAAAPA/AAAAAAAAAEAAAAAAAAAIQAAAAAAAABBAAAAAAAAAFEAAAAAAAAAcQAAAAAAAACBAAAAAAAAA8D8AAAAAAAAAQAAAAAAAAAhAAAAAAAAAEEAAAAAAAAAUQAAAAAAAABhAZmZmZmZmHkAAAAAAAADwPwAAAAAAAABAGPuPwtCQBEDNzMzMzMwMQGZmZmZmZhJAZmZmZmZmFkAAAAAAAAAcQAAAAAAAAPA/AAAAAAAAAEAAAAAAAAAIQAAAAAAAABBAjP1HYWhIEkBmZmZmZmYWQGZmZmZmZhpAAAAAAAAA8D8AAAAAAAAAQAAAAAAAAAhAAAAAAAAAEEAAAAAAAAAUQAAAAAAAABhAAAAAAAAAHEA=\",\"dtype\":\"float64\",\"order\":\"little\",\"shape\":[52]},\"y_end\":{\"__ndarray__\":\"AAAAAAAA8D8AAAAAAADwPwAAAAAAAPA/AAAAAAAA8D8AAAAAAADwPwAAAAAAAPA/AAAAAAAA8D9mZmZmZmb2PwAAAAAAAABAAAAAAAAAAEAzMzMzMzMDQDMzMzMzMwNAMzMzMzMzA0AzMzMzMzMDQDMzMzMzMwNAMzMzMzMzA0AzMzMzMzMDQDMzMzMzMwtAMzMzMzMzC0AzMzMzMzMLQDMzMzMzMwtAMzMzMzMzC0AzMzMzMzMLQDMzMzMzMwtAmpmZmZmZEUCamZmZmZkRQJqZmZmZmRFAmpmZmZmZEUCamZmZmZkRQJqZmZmZmRFAAAAAAAAAFECamZmZmZkVQJqZmZmZmRVAdAK4npe3FUAAAAAAAAAYQAAAAAAAABhAAAAAAAAAGECamZmZmZkVQJqZmZmZmRlAmpmZmZmZGUCamZmZmZkZQJqZmZmZmRlAdAK4npe3GUAAAAAAAAAcQAAAAAAAABxAmpmZmZmZHUCamZmZmZkdQJqZmZmZmR1AmpmZmZmZHUCamZmZmZkdQJqZmZmZmR1AmpmZmZmZHUA=\",\"dtype\":\"float64\",\"order\":\"little\",\"shape\":[52]},\"y_start\":{\"__ndarray__\":\"AAAAAAAA8D8AAAAAAADwPwAAAAAAAPA/AAAAAAAA8D8AAAAAAADwPwAAAAAAAPA/AAAAAAAA8D+amZmZmZn5PwAAAAAAAABAAAAAAAAAAEDNzMzMzMwEQM3MzMzMzARAzczMzMzMBEDNzMzMzMwEQM3MzMzMzARAzczMzMzMBEDNzMzMzMwEQM3MzMzMzAxAzczMzMzMDEDNzMzMzMwMQM3MzMzMzAxAzczMzMzMDEDNzMzMzMwMQM3MzMzMzAxAZmZmZmZmEkBmZmZmZmYSQGZmZmZmZhJAZmZmZmZmEkBmZmZmZmYSQGZmZmZmZhJAAAAAAAAAFEBmZmZmZmYWQGZmZmZmZhZAjP1HYWhIFkAAAAAAAAAYQAAAAAAAABhAAAAAAAAAGEBmZmZmZmYWQGZmZmZmZhpAZmZmZmZmGkBmZmZmZmYaQGZmZmZmZhpAjP1HYWhIGkAAAAAAAAAcQAAAAAAAABxAZmZmZmZmHkBmZmZmZmYeQGZmZmZmZh5AZmZmZmZmHkBmZmZmZmYeQGZmZmZmZh5AZmZmZmZmHkA=\",\"dtype\":\"float64\",\"order\":\"little\",\"shape\":[52]}},\"selected\":{\"id\":\"4140\"},\"selection_policy\":{\"id\":\"4141\"}},\"id\":\"3920\",\"type\":\"ColumnDataSource\"},{\"attributes\":{\"fill_alpha\":{\"value\":0.25},\"fill_color\":{\"value\":\"orange\"},\"height\":{\"field\":\"height\"},\"line_color\":{\"value\":null},\"width\":{\"field\":\"width\"},\"x\":{\"field\":\"x\"},\"y\":{\"field\":\"y\"}},\"id\":\"3917\",\"type\":\"Rect\"},{\"attributes\":{},\"id\":\"4138\",\"type\":\"AllLabels\"},{\"attributes\":{\"source\":{\"id\":\"3916\"}},\"id\":\"3919\",\"type\":\"CDSView\"},{\"attributes\":{},\"id\":\"4139\",\"type\":\"BasicTickFormatter\"},{\"attributes\":{\"line_alpha\":{\"value\":0.5},\"line_color\":{\"value\":\"blue\"},\"size\":{\"value\":5}},\"id\":\"3921\",\"type\":\"OpenHead\"},{\"attributes\":{\"bottom_units\":\"screen\",\"fill_alpha\":0.5,\"fill_color\":\"lightgrey\",\"left_units\":\"screen\",\"level\":\"overlay\",\"line_alpha\":1.0,\"line_color\":\"black\",\"line_dash\":[4,4],\"line_width\":2,\"right_units\":\"screen\",\"syncable\":false,\"top_units\":\"screen\"},\"id\":\"3898\",\"type\":\"BoxAnnotation\"},{\"attributes\":{\"line_color\":{\"value\":\"orange\"},\"size\":{\"value\":5}},\"id\":\"3926\",\"type\":\"OpenHead\"},{\"attributes\":{},\"id\":\"4151\",\"type\":\"Selection\"},{\"attributes\":{\"end\":{\"id\":\"3926\"},\"line_color\":{\"value\":\"orange\"},\"line_width\":{\"value\":2},\"source\":{\"id\":\"3925\"},\"start\":null,\"x_end\":{\"field\":\"x_end\"},\"x_start\":{\"field\":\"x_start\"},\"y_end\":{\"field\":\"y_end\"},\"y_start\":{\"field\":\"y_start\"}},\"id\":\"3927\",\"type\":\"Arrow\"},{\"attributes\":{},\"id\":\"4152\",\"type\":\"UnionRenderers\"},{\"attributes\":{},\"id\":\"3876\",\"type\":\"DataRange1d\"},{\"attributes\":{\"formatter\":{\"id\":\"4139\"},\"major_label_overrides\":{\"1\":\"I\",\"2\":\"N\",\"3\":\"T\",\"4\":\"E\",\"5\":\"R\",\"6\":\"E\",\"7\":\"S\",\"8\":\"T\"},\"major_label_policy\":{\"id\":\"4138\"},\"ticker\":{\"id\":\"3933\"}},\"id\":\"3884\",\"type\":\"LinearAxis\"},{\"attributes\":{},\"id\":\"3882\",\"type\":\"LinearScale\"},{\"attributes\":{\"data\":{\"x_end\":{\"__ndarray__\":\"AAAAAAAAIEAAAAAAAAAgQAAAAD0vbx1AAAAAPS9vGUAAAAAAAAAYQAAAAAAAABhAAAAAMzMzFUAAAAAzMzMRQAAAAGZmZgpAAAAAZmZmAkAAAAD0vLz1Pw==\",\"dtype\":\"float64\",\"order\":\"little\",\"shape\":[11]},\"x_start\":{\"__ndarray__\":\"AAAAAAAAIEAAAAAAAAAgQAAAAMPQkB5AAAAAw9CQGkAAAAAAAAAYQAAAAAAAABhAAAAAzczMFkAAAADNzMwSQAAAAJqZmQ1AAAAAmpmZBUAAAAAMQ0P6Pw==\",\"dtype\":\"float64\",\"order\":\"little\",\"shape\":[11]},\"y_end\":{\"__ndarray__\":\"AAAAMzMzHUAAAAAzMzMZQAAAAD0vbxVAAAAAPS9vEUAAAABmZmYKQAAAAGZmZgJAAAAAAAAAAEAAAAAAAAAAQAAAAAAAAABAAAAAAAAAAEAAAAD0vLz1Pw==\",\"dtype\":\"float64\",\"order\":\"little\",\"shape\":[11]},\"y_start\":{\"__ndarray__\":\"AAAAzczMHkAAAADNzMwaQAAAAMPQkBZAAAAAw9CQEkAAAACamZkNQAAAAJqZmQVAAAAAAAAAAEAAAAAAAAAAQAAAAAAAAABAAAAAAAAAAEAAAAAMQ0P6Pw==\",\"dtype\":\"float64\",\"order\":\"little\",\"shape\":[11]}},\"selected\":{\"id\":\"4142\"},\"selection_policy\":{\"id\":\"4143\"}},\"id\":\"3925\",\"type\":\"ColumnDataSource\"},{\"attributes\":{\"formatter\":{\"id\":\"4137\"},\"major_label_overrides\":{\"1\":\"I\",\"2\":\"N\",\"3\":\"D\",\"4\":\"U\",\"5\":\"S\",\"6\":\"T\",\"7\":\"R\",\"8\":\"Y\"},\"major_label_policy\":{\"id\":\"4136\"},\"ticker\":{\"id\":\"3935\"}},\"id\":\"3888\",\"type\":\"LinearAxis\"},{\"attributes\":{},\"id\":\"3897\",\"type\":\"HelpTool\"},{\"attributes\":{},\"id\":\"3880\",\"type\":\"LinearScale\"},{\"attributes\":{\"ticks\":[1,2,3,4,5,6,7,8]},\"id\":\"3933\",\"type\":\"FixedTicker\"},{\"attributes\":{\"flipped\":true},\"id\":\"3878\",\"type\":\"DataRange1d\"},{\"attributes\":{\"ticks\":[1,2,3,4,5,6,7,8]},\"id\":\"3935\",\"type\":\"FixedTicker\"},{\"attributes\":{\"axis\":{\"id\":\"3884\"},\"grid_line_color\":null,\"ticker\":null},\"id\":\"3887\",\"type\":\"Grid\"},{\"attributes\":{\"data\":{\"color\":[\"gray\",\"gray\",\"gray\",\"gray\",\"gray\",\"gray\",\"gray\",\"gray\",\"gray\",\"gray\",\"black\",\"black\",\"black\",\"black\",\"black\",\"black\",\"black\",\"black\",\"gray\",\"black\",\"black\",\"black\",\"black\",\"black\",\"black\",\"black\",\"black\",\"gray\",\"black\",\"black\",\"black\",\"black\",\"black\",\"black\",\"black\",\"black\",\"gray\",\"black\",\"black\",\"black\",\"black\",\"black\",\"black\",\"black\",\"black\",\"gray\",\"black\",\"black\",\"black\",\"black\",\"black\",\"black\",\"black\",\"black\",\"gray\",\"black\",\"black\",\"black\",\"black\",\"black\",\"black\",\"black\",\"black\",\"gray\",\"black\",\"black\",\"black\",\"black\",\"black\",\"black\",\"black\",\"black\",\"gray\",\"black\",\"black\",\"black\",\"black\",\"black\",\"black\",\"black\",\"black\"],\"value\":[\"-0.0\",\"-0.2\",\"-0.4\",\"-0.6\",\"-0.8\",\"-1.0\",\"-1.2\",\"-1.4\",\"-1.6\",\"-0.2\",\"1.0\",\"0.8\",\"0.6\",\"0.4\",\"0.2\",\"0.0\",\"-0.2\",\"-0.4\",\"-0.4\",\"0.8\",\"2.0\",\"1.8\",\"1.6\",\"1.4\",\"1.2\",\"1.0\",\"0.8\",\"-0.6\",\"0.6\",\"1.8\",\"1.6\",\"1.4\",\"1.2\",\"1.0\",\"0.8\",\"0.6\",\"-0.8\",\"0.4\",\"1.6\",\"1.4\",\"1.2\",\"1.0\",\"0.8\",\"0.6\",\"0.4\",\"-1.0\",\"0.2\",\"1.4\",\"1.2\",\"1.0\",\"0.8\",\"0.6\",\"1.8\",\"1.6\",\"-1.2\",\"0.0\",\"1.2\",\"2.4\",\"2.2\",\"2.0\",\"1.8\",\"1.6\",\"2.8\",\"-1.4\",\"-0.2\",\"1.0\",\"2.2\",\"2.0\",\"3.2\",\"3.0\",\"2.8\",\"2.6\",\"-1.6\",\"-0.4\",\"0.8\",\"2.0\",\"1.8\",\"3.0\",\"2.8\",\"2.6\",\"2.4\"],\"x\":[0,1,2,3,4,5,6,7,8,0,1,2,3,4,5,6,7,8,0,1,2,3,4,5,6,7,8,0,1,2,3,4,5,6,7,8,0,1,2,3,4,5,6,7,8,0,1,2,3,4,5,6,7,8,0,1,2,3,4,5,6,7,8,0,1,2,3,4,5,6,7,8,0,1,2,3,4,5,6,7,8],\"y\":[0,0,0,0,0,0,0,0,0,1,1,1,1,1,1,1,1,1,2,2,2,2,2,2,2,2,2,3,3,3,3,3,3,3,3,3,4,4,4,4,4,4,4,4,4,5,5,5,5,5,5,5,5,5,6,6,6,6,6,6,6,6,6,7,7,7,7,7,7,7,7,7,8,8,8,8,8,8,8,8,8]},\"selected\":{\"id\":\"4144\"},\"selection_policy\":{\"id\":\"4145\"}},\"id\":\"3930\",\"type\":\"ColumnDataSource\"},{\"attributes\":{\"source\":{\"id\":\"3930\"},\"text\":{\"field\":\"value\"},\"text_align\":{\"value\":\"center\"},\"text_baseline\":{\"value\":\"middle\"},\"text_color\":{\"field\":\"color\"},\"text_font_size\":{\"value\":\"9pt\"},\"x\":{\"field\":\"x\"},\"y\":{\"field\":\"y\"}},\"id\":\"3931\",\"type\":\"LabelSet\"},{\"attributes\":{\"axis\":{\"id\":\"3888\"},\"dimension\":1,\"grid_line_color\":null,\"ticker\":null},\"id\":\"3891\",\"type\":\"Grid\"},{\"attributes\":{},\"id\":\"4140\",\"type\":\"Selection\"},{\"attributes\":{},\"id\":\"4147\",\"type\":\"Selection\"},{\"attributes\":{},\"id\":\"4141\",\"type\":\"UnionRenderers\"},{\"attributes\":{},\"id\":\"4148\",\"type\":\"UnionRenderers\"},{\"attributes\":{},\"id\":\"3893\",\"type\":\"WheelZoomTool\"},{\"attributes\":{\"active_multi\":null,\"tools\":[{\"id\":\"3892\"},{\"id\":\"3893\"},{\"id\":\"3894\"},{\"id\":\"3895\"},{\"id\":\"3896\"},{\"id\":\"3897\"}]},\"id\":\"3899\",\"type\":\"Toolbar\"},{\"attributes\":{},\"id\":\"3892\",\"type\":\"PanTool\"}],\"root_ids\":[\"3874\"]},\"title\":\"Bokeh Application\",\"version\":\"2.3.2\"}};\n",
       "  var render_items = [{\"docid\":\"82bf0041-2141-4a09-b409-bb033c276d28\",\"root_ids\":[\"3874\"],\"roots\":{\"3874\":\"b1f1fe44-4376-4498-9344-0ec46dcf22e9\"}}];\n",
       "  root.Bokeh.embed.embed_items_notebook(docs_json, render_items);\n",
       "\n",
       "  }\n",
       "  if (root.Bokeh !== undefined) {\n",
       "    embed_document(root);\n",
       "  } else {\n",
       "    var attempts = 0;\n",
       "    var timer = setInterval(function(root) {\n",
       "      if (root.Bokeh !== undefined) {\n",
       "        clearInterval(timer);\n",
       "        embed_document(root);\n",
       "      } else {\n",
       "        attempts++;\n",
       "        if (attempts > 100) {\n",
       "          clearInterval(timer);\n",
       "          console.log(\"Bokeh: ERROR: Unable to run BokehJS code because BokehJS library is missing\");\n",
       "        }\n",
       "      }\n",
       "    }, 10, root)\n",
       "  }\n",
       "})(window);"
      ],
      "application/vnd.bokehjs_exec.v0+json": ""
     },
     "metadata": {
      "application/vnd.bokehjs_exec.v0+json": {
       "id": "3874"
      }
     },
     "output_type": "display_data"
    }
   ],
   "source": [
    "%time solver.solve(problem)"
   ]
  },
  {
   "cell_type": "code",
   "execution_count": 17,
   "metadata": {},
   "outputs": [
    {
     "data": {
      "text/plain": [
       "{'build_matrix': '34207 ns', 'solve': '71936 ns'}"
      ]
     },
     "execution_count": 17,
     "metadata": {},
     "output_type": "execute_result"
    }
   ],
   "source": [
    "solver.solve(problem)\n",
    "solver.times"
   ]
  },
  {
   "cell_type": "code",
   "execution_count": 13,
   "metadata": {},
   "outputs": [
    {
     "data": {
      "text/html": [
       "\n",
       "\n",
       "\n",
       "\n",
       "\n",
       "\n",
       "  <div class=\"bk-root\" id=\"80016093-6e23-447a-a99f-b775657d7358\" data-root-id=\"2875\"></div>\n"
      ]
     },
     "metadata": {},
     "output_type": "display_data"
    },
    {
     "data": {
      "application/javascript": [
       "(function(root) {\n",
       "  function embed_document(root) {\n",
       "    \n",
       "  var docs_json = {\"e5344097-4895-4ba4-9da9-ad639b302efb\":{\"defs\":[],\"roots\":{\"references\":[{\"attributes\":{\"above\":[{\"id\":\"2885\"}],\"center\":[{\"id\":\"2888\"},{\"id\":\"2892\"},{\"id\":\"2923\"},{\"id\":\"2928\"},{\"id\":\"2932\"}],\"height\":410,\"left\":[{\"id\":\"2889\"}],\"renderers\":[{\"id\":\"2910\"},{\"id\":\"2915\"},{\"id\":\"2919\"}],\"title\":null,\"toolbar\":{\"id\":\"2900\"},\"toolbar_location\":null,\"width\":410,\"x_range\":{\"id\":\"2877\"},\"x_scale\":{\"id\":\"2881\"},\"y_range\":{\"id\":\"2879\"},\"y_scale\":{\"id\":\"2883\"}},\"id\":\"2875\",\"subtype\":\"Figure\",\"type\":\"Plot\"},{\"attributes\":{\"end\":{\"id\":\"2922\"},\"line_color\":{\"value\":\"blue\"},\"source\":{\"id\":\"2921\"},\"start\":null,\"x_end\":{\"field\":\"x_end\"},\"x_start\":{\"field\":\"x_start\"},\"y_end\":{\"field\":\"y_end\"},\"y_start\":{\"field\":\"y_start\"}},\"id\":\"2923\",\"type\":\"Arrow\"},{\"attributes\":{\"data_source\":{\"id\":\"2917\"},\"glyph\":{\"id\":\"2918\"},\"hover_glyph\":null,\"muted_glyph\":null,\"view\":{\"id\":\"2920\"}},\"id\":\"2919\",\"type\":\"GlyphRenderer\"},{\"attributes\":{},\"id\":\"3096\",\"type\":\"Selection\"},{\"attributes\":{\"fill_alpha\":{\"value\":0.25},\"fill_color\":{\"value\":\"orange\"},\"height\":{\"field\":\"height\"},\"line_color\":{\"value\":null},\"width\":{\"field\":\"width\"},\"x\":{\"field\":\"x\"},\"y\":{\"field\":\"y\"}},\"id\":\"2918\",\"type\":\"Rect\"},{\"attributes\":{\"end\":{\"id\":\"2927\"},\"line_color\":{\"value\":\"orange\"},\"line_width\":{\"value\":2},\"source\":{\"id\":\"2926\"},\"start\":null,\"x_end\":{\"field\":\"x_end\"},\"x_start\":{\"field\":\"x_start\"},\"y_end\":{\"field\":\"y_end\"},\"y_start\":{\"field\":\"y_start\"}},\"id\":\"2928\",\"type\":\"Arrow\"},{\"attributes\":{},\"id\":\"3097\",\"type\":\"UnionRenderers\"},{\"attributes\":{\"data\":{\"x_end\":{\"__ndarray__\":\"ZmZmZmZm9j8zMzMzMzMDQDMzMzMzMwtAmpmZmZmZEUCamZmZmZkVQJqZmZmZmRlAmpmZmZmZHUAAAAAAAADwP5qZmZmZmRlAmpmZmZmZHUAAAAAAAADwPwAAAAAAAABAAAAAAAAACEAAAAAAAAAQQAAAAAAAABRAAAAAAAAAHEAAAAAAAAAgQAAAAAAAAPA/AAAAAAAAAEAAAAAAAAAIQAAAAAAAABBAAAAAAAAAFEAAAAAAAAAcQAAAAAAAACBAAAAAAAAA8D8AAAAAAAAAQAAAAAAAAAhAAAAAAAAAEEAAAAAAAAAUQAAAAAAAABhAmpmZmZmZHUAAAAAAAADwPwAAAAAAAABA6ARwPS9vA0AzMzMzMzMLQJqZmZmZmRFAmpmZmZmZFUAAAAAAAAAcQAAAAAAAAPA/AAAAAAAAAEAAAAAAAAAIQAAAAAAAABBAdAK4npe3EUCamZmZmZkVQJqZmZmZmRlAAAAAAAAA8D8AAAAAAAAAQAAAAAAAAAhAAAAAAAAAEEAAAAAAAAAUQAAAAAAAABhAAAAAAAAAHEA=\",\"dtype\":\"float64\",\"order\":\"little\",\"shape\":[52]},\"x_start\":{\"__ndarray__\":\"mpmZmZmZ+T/NzMzMzMwEQM3MzMzMzAxAZmZmZmZmEkBmZmZmZmYWQGZmZmZmZhpAZmZmZmZmHkAAAAAAAADwP2ZmZmZmZhpAZmZmZmZmHkAAAAAAAADwPwAAAAAAAABAAAAAAAAACEAAAAAAAAAQQAAAAAAAABRAAAAAAAAAHEAAAAAAAAAgQAAAAAAAAPA/AAAAAAAAAEAAAAAAAAAIQAAAAAAAABBAAAAAAAAAFEAAAAAAAAAcQAAAAAAAACBAAAAAAAAA8D8AAAAAAAAAQAAAAAAAAAhAAAAAAAAAEEAAAAAAAAAUQAAAAAAAABhAZmZmZmZmHkAAAAAAAADwPwAAAAAAAABAGPuPwtCQBEDNzMzMzMwMQGZmZmZmZhJAZmZmZmZmFkAAAAAAAAAcQAAAAAAAAPA/AAAAAAAAAEAAAAAAAAAIQAAAAAAAABBAjP1HYWhIEkBmZmZmZmYWQGZmZmZmZhpAAAAAAAAA8D8AAAAAAAAAQAAAAAAAAAhAAAAAAAAAEEAAAAAAAAAUQAAAAAAAABhAAAAAAAAAHEA=\",\"dtype\":\"float64\",\"order\":\"little\",\"shape\":[52]},\"y_end\":{\"__ndarray__\":\"AAAAAAAA8D8AAAAAAADwPwAAAAAAAPA/AAAAAAAA8D8AAAAAAADwPwAAAAAAAPA/AAAAAAAA8D9mZmZmZmb2PwAAAAAAAABAAAAAAAAAAEAzMzMzMzMDQDMzMzMzMwNAMzMzMzMzA0AzMzMzMzMDQDMzMzMzMwNAMzMzMzMzA0AzMzMzMzMDQDMzMzMzMwtAMzMzMzMzC0AzMzMzMzMLQDMzMzMzMwtAMzMzMzMzC0AzMzMzMzMLQDMzMzMzMwtAmpmZmZmZEUCamZmZmZkRQJqZmZmZmRFAmpmZmZmZEUCamZmZmZkRQJqZmZmZmRFAAAAAAAAAFECamZmZmZkVQJqZmZmZmRVAdAK4npe3FUAAAAAAAAAYQAAAAAAAABhAAAAAAAAAGECamZmZmZkVQJqZmZmZmRlAmpmZmZmZGUCamZmZmZkZQJqZmZmZmRlAdAK4npe3GUAAAAAAAAAcQAAAAAAAABxAmpmZmZmZHUCamZmZmZkdQJqZmZmZmR1AmpmZmZmZHUCamZmZmZkdQJqZmZmZmR1AmpmZmZmZHUA=\",\"dtype\":\"float64\",\"order\":\"little\",\"shape\":[52]},\"y_start\":{\"__ndarray__\":\"AAAAAAAA8D8AAAAAAADwPwAAAAAAAPA/AAAAAAAA8D8AAAAAAADwPwAAAAAAAPA/AAAAAAAA8D+amZmZmZn5PwAAAAAAAABAAAAAAAAAAEDNzMzMzMwEQM3MzMzMzARAzczMzMzMBEDNzMzMzMwEQM3MzMzMzARAzczMzMzMBEDNzMzMzMwEQM3MzMzMzAxAzczMzMzMDEDNzMzMzMwMQM3MzMzMzAxAzczMzMzMDEDNzMzMzMwMQM3MzMzMzAxAZmZmZmZmEkBmZmZmZmYSQGZmZmZmZhJAZmZmZmZmEkBmZmZmZmYSQGZmZmZmZhJAAAAAAAAAFEBmZmZmZmYWQGZmZmZmZhZAjP1HYWhIFkAAAAAAAAAYQAAAAAAAABhAAAAAAAAAGEBmZmZmZmYWQGZmZmZmZhpAZmZmZmZmGkBmZmZmZmYaQGZmZmZmZhpAjP1HYWhIGkAAAAAAAAAcQAAAAAAAABxAZmZmZmZmHkBmZmZmZmYeQGZmZmZmZh5AZmZmZmZmHkBmZmZmZmYeQGZmZmZmZh5AZmZmZmZmHkA=\",\"dtype\":\"float64\",\"order\":\"little\",\"shape\":[52]}},\"selected\":{\"id\":\"3094\"},\"selection_policy\":{\"id\":\"3095\"}},\"id\":\"2921\",\"type\":\"ColumnDataSource\"},{\"attributes\":{\"source\":{\"id\":\"2917\"}},\"id\":\"2920\",\"type\":\"CDSView\"},{\"attributes\":{\"bottom_units\":\"screen\",\"fill_alpha\":0.5,\"fill_color\":\"lightgrey\",\"left_units\":\"screen\",\"level\":\"overlay\",\"line_alpha\":1.0,\"line_color\":\"black\",\"line_dash\":[4,4],\"line_width\":2,\"right_units\":\"screen\",\"syncable\":false,\"top_units\":\"screen\"},\"id\":\"2899\",\"type\":\"BoxAnnotation\"},{\"attributes\":{},\"id\":\"3098\",\"type\":\"Selection\"},{\"attributes\":{\"data\":{\"height\":[1,1,1,1,1,1,1,1,1,1,1,1],\"width\":[1,1,1,1,1,1,1,1,1,1,1,1],\"x\":{\"__ndarray__\":\"CAAIAAgABwAGAAYABgAFAAQAAwACAAEA\",\"dtype\":\"int16\",\"order\":\"little\",\"shape\":[12]},\"y\":{\"__ndarray__\":\"CAAHAAYABQAEAAMAAgACAAIAAgACAAEA\",\"dtype\":\"int16\",\"order\":\"little\",\"shape\":[12]}},\"selected\":{\"id\":\"3091\"},\"selection_policy\":{\"id\":\"3092\"}},\"id\":\"2917\",\"type\":\"ColumnDataSource\"},{\"attributes\":{},\"id\":\"2877\",\"type\":\"DataRange1d\"},{\"attributes\":{\"source\":{\"id\":\"2912\"}},\"id\":\"2916\",\"type\":\"CDSView\"},{\"attributes\":{\"line_alpha\":{\"value\":0.5},\"line_color\":{\"value\":\"blue\"},\"size\":{\"value\":5}},\"id\":\"2922\",\"type\":\"OpenHead\"},{\"attributes\":{\"data\":{\"xs\":[[-0.5,8.5],[-0.5,8.5],[-0.5,8.5],[-0.5,8.5],[-0.5,8.5],[-0.5,8.5],[-0.5,8.5],[-0.5,8.5],[-0.5,8.5]],\"ys\":[[0.5,0.5],[1.5,1.5],[2.5,2.5],[3.5,3.5],[4.5,4.5],[5.5,5.5],[6.5,6.5],[7.5,7.5],[8.5,8.5]]},\"selected\":{\"id\":\"3087\"},\"selection_policy\":{\"id\":\"3088\"}},\"id\":\"2907\",\"type\":\"ColumnDataSource\"},{\"attributes\":{},\"id\":\"3090\",\"type\":\"UnionRenderers\"},{\"attributes\":{},\"id\":\"3091\",\"type\":\"Selection\"},{\"attributes\":{\"data_source\":{\"id\":\"2907\"},\"glyph\":{\"id\":\"2908\"},\"hover_glyph\":null,\"muted_glyph\":null,\"nonselection_glyph\":{\"id\":\"2909\"},\"view\":{\"id\":\"2911\"}},\"id\":\"2910\",\"type\":\"GlyphRenderer\"},{\"attributes\":{},\"id\":\"3092\",\"type\":\"UnionRenderers\"},{\"attributes\":{},\"id\":\"3099\",\"type\":\"UnionRenderers\"},{\"attributes\":{\"line_color\":{\"value\":\"orange\"},\"size\":{\"value\":5}},\"id\":\"2927\",\"type\":\"OpenHead\"},{\"attributes\":{\"formatter\":{\"id\":\"3083\"},\"major_label_overrides\":{\"1\":\"I\",\"2\":\"N\",\"3\":\"T\",\"4\":\"E\",\"5\":\"R\",\"6\":\"E\",\"7\":\"S\",\"8\":\"T\"},\"major_label_policy\":{\"id\":\"3084\"},\"ticker\":{\"id\":\"2934\"}},\"id\":\"2885\",\"type\":\"LinearAxis\"},{\"attributes\":{},\"id\":\"2883\",\"type\":\"LinearScale\"},{\"attributes\":{\"formatter\":{\"id\":\"3085\"},\"major_label_overrides\":{\"1\":\"I\",\"2\":\"N\",\"3\":\"D\",\"4\":\"U\",\"5\":\"S\",\"6\":\"T\",\"7\":\"R\",\"8\":\"Y\"},\"major_label_policy\":{\"id\":\"3086\"},\"ticker\":{\"id\":\"2936\"}},\"id\":\"2889\",\"type\":\"LinearAxis\"},{\"attributes\":{\"data\":{\"x_end\":{\"__ndarray__\":\"AAAAAAAAIEAAAAAAAAAgQAAAAD0vbx1AAAAAPS9vGUAAAAAAAAAYQAAAAAAAABhAAAAAMzMzFUAAAAAzMzMRQAAAAGZmZgpAAAAAZmZmAkAAAAD0vLz1Pw==\",\"dtype\":\"float64\",\"order\":\"little\",\"shape\":[11]},\"x_start\":{\"__ndarray__\":\"AAAAAAAAIEAAAAAAAAAgQAAAAMPQkB5AAAAAw9CQGkAAAAAAAAAYQAAAAAAAABhAAAAAzczMFkAAAADNzMwSQAAAAJqZmQ1AAAAAmpmZBUAAAAAMQ0P6Pw==\",\"dtype\":\"float64\",\"order\":\"little\",\"shape\":[11]},\"y_end\":{\"__ndarray__\":\"AAAAMzMzHUAAAAAzMzMZQAAAAD0vbxVAAAAAPS9vEUAAAABmZmYKQAAAAGZmZgJAAAAAAAAAAEAAAAAAAAAAQAAAAAAAAABAAAAAAAAAAEAAAAD0vLz1Pw==\",\"dtype\":\"float64\",\"order\":\"little\",\"shape\":[11]},\"y_start\":{\"__ndarray__\":\"AAAAzczMHkAAAADNzMwaQAAAAMPQkBZAAAAAw9CQEkAAAACamZkNQAAAAJqZmQVAAAAAAAAAAEAAAAAAAAAAQAAAAAAAAABAAAAAAAAAAEAAAAAMQ0P6Pw==\",\"dtype\":\"float64\",\"order\":\"little\",\"shape\":[11]}},\"selected\":{\"id\":\"3096\"},\"selection_policy\":{\"id\":\"3097\"}},\"id\":\"2926\",\"type\":\"ColumnDataSource\"},{\"attributes\":{},\"id\":\"2898\",\"type\":\"HelpTool\"},{\"attributes\":{},\"id\":\"2881\",\"type\":\"LinearScale\"},{\"attributes\":{\"flipped\":true},\"id\":\"2879\",\"type\":\"DataRange1d\"},{\"attributes\":{},\"id\":\"3083\",\"type\":\"BasicTickFormatter\"},{\"attributes\":{\"axis\":{\"id\":\"2885\"},\"grid_line_color\":null,\"ticker\":null},\"id\":\"2888\",\"type\":\"Grid\"},{\"attributes\":{},\"id\":\"3084\",\"type\":\"AllLabels\"},{\"attributes\":{},\"id\":\"3087\",\"type\":\"Selection\"},{\"attributes\":{},\"id\":\"3088\",\"type\":\"UnionRenderers\"},{\"attributes\":{\"axis\":{\"id\":\"2889\"},\"dimension\":1,\"grid_line_color\":null,\"ticker\":null},\"id\":\"2892\",\"type\":\"Grid\"},{\"attributes\":{\"line_alpha\":{\"value\":0.1},\"line_color\":{\"value\":\"lightgray\"},\"line_width\":{\"value\":2},\"xs\":{\"field\":\"xs\"},\"ys\":{\"field\":\"ys\"}},\"id\":\"2914\",\"type\":\"MultiLine\"},{\"attributes\":{\"line_color\":{\"value\":\"lightgray\"},\"line_width\":{\"value\":2},\"xs\":{\"field\":\"xs\"},\"ys\":{\"field\":\"ys\"}},\"id\":\"2908\",\"type\":\"MultiLine\"},{\"attributes\":{},\"id\":\"2894\",\"type\":\"WheelZoomTool\"},{\"attributes\":{\"active_multi\":null,\"tools\":[{\"id\":\"2893\"},{\"id\":\"2894\"},{\"id\":\"2895\"},{\"id\":\"2896\"},{\"id\":\"2897\"},{\"id\":\"2898\"}]},\"id\":\"2900\",\"type\":\"Toolbar\"},{\"attributes\":{},\"id\":\"2893\",\"type\":\"PanTool\"},{\"attributes\":{},\"id\":\"3085\",\"type\":\"BasicTickFormatter\"},{\"attributes\":{\"overlay\":{\"id\":\"2899\"}},\"id\":\"2895\",\"type\":\"BoxZoomTool\"},{\"attributes\":{},\"id\":\"3086\",\"type\":\"AllLabels\"},{\"attributes\":{},\"id\":\"2896\",\"type\":\"SaveTool\"},{\"attributes\":{},\"id\":\"2897\",\"type\":\"ResetTool\"},{\"attributes\":{\"line_alpha\":{\"value\":0.1},\"line_color\":{\"value\":\"lightgray\"},\"line_width\":{\"value\":2},\"xs\":{\"field\":\"xs\"},\"ys\":{\"field\":\"ys\"}},\"id\":\"2909\",\"type\":\"MultiLine\"},{\"attributes\":{\"line_color\":{\"value\":\"lightgray\"},\"line_width\":{\"value\":2},\"xs\":{\"field\":\"xs\"},\"ys\":{\"field\":\"ys\"}},\"id\":\"2913\",\"type\":\"MultiLine\"},{\"attributes\":{\"source\":{\"id\":\"2907\"}},\"id\":\"2911\",\"type\":\"CDSView\"},{\"attributes\":{\"ticks\":[1,2,3,4,5,6,7,8]},\"id\":\"2934\",\"type\":\"FixedTicker\"},{\"attributes\":{\"source\":{\"id\":\"2931\"},\"text\":{\"field\":\"value\"},\"text_align\":{\"value\":\"center\"},\"text_baseline\":{\"value\":\"middle\"},\"text_color\":{\"field\":\"color\"},\"text_font_size\":{\"value\":\"9pt\"},\"x\":{\"field\":\"x\"},\"y\":{\"field\":\"y\"}},\"id\":\"2932\",\"type\":\"LabelSet\"},{\"attributes\":{},\"id\":\"3094\",\"type\":\"Selection\"},{\"attributes\":{},\"id\":\"3095\",\"type\":\"UnionRenderers\"},{\"attributes\":{},\"id\":\"3089\",\"type\":\"Selection\"},{\"attributes\":{\"ticks\":[1,2,3,4,5,6,7,8]},\"id\":\"2936\",\"type\":\"FixedTicker\"},{\"attributes\":{\"data\":{\"xs\":[[0.5,0.5],[1.5,1.5],[2.5,2.5],[3.5,3.5],[4.5,4.5],[5.5,5.5],[6.5,6.5],[7.5,7.5],[8.5,8.5]],\"ys\":[[-0.5,8.5],[-0.5,8.5],[-0.5,8.5],[-0.5,8.5],[-0.5,8.5],[-0.5,8.5],[-0.5,8.5],[-0.5,8.5],[-0.5,8.5]]},\"selected\":{\"id\":\"3089\"},\"selection_policy\":{\"id\":\"3090\"}},\"id\":\"2912\",\"type\":\"ColumnDataSource\"},{\"attributes\":{\"data\":{\"color\":[\"gray\",\"gray\",\"gray\",\"gray\",\"gray\",\"gray\",\"gray\",\"gray\",\"gray\",\"gray\",\"black\",\"black\",\"black\",\"black\",\"black\",\"black\",\"black\",\"black\",\"gray\",\"black\",\"black\",\"black\",\"black\",\"black\",\"black\",\"black\",\"black\",\"gray\",\"black\",\"black\",\"black\",\"black\",\"black\",\"black\",\"black\",\"black\",\"gray\",\"black\",\"black\",\"black\",\"black\",\"black\",\"black\",\"black\",\"black\",\"gray\",\"black\",\"black\",\"black\",\"black\",\"black\",\"black\",\"black\",\"black\",\"gray\",\"black\",\"black\",\"black\",\"black\",\"black\",\"black\",\"black\",\"black\",\"gray\",\"black\",\"black\",\"black\",\"black\",\"black\",\"black\",\"black\",\"black\",\"gray\",\"black\",\"black\",\"black\",\"black\",\"black\",\"black\",\"black\",\"black\"],\"value\":[\"-0.0\",\"-0.2\",\"-0.4\",\"-0.6\",\"-0.8\",\"-1.0\",\"-1.2\",\"-1.4\",\"-1.6\",\"-0.2\",\"1.0\",\"0.8\",\"0.6\",\"0.4\",\"0.2\",\"0.0\",\"-0.2\",\"-0.4\",\"-0.4\",\"0.8\",\"2.0\",\"1.8\",\"1.6\",\"1.4\",\"1.2\",\"1.0\",\"0.8\",\"-0.6\",\"0.6\",\"1.8\",\"1.6\",\"1.4\",\"1.2\",\"1.0\",\"0.8\",\"0.6\",\"-0.8\",\"0.4\",\"1.6\",\"1.4\",\"1.2\",\"1.0\",\"0.8\",\"0.6\",\"0.4\",\"-1.0\",\"0.2\",\"1.4\",\"1.2\",\"1.0\",\"0.8\",\"0.6\",\"1.8\",\"1.6\",\"-1.2\",\"0.0\",\"1.2\",\"2.4\",\"2.2\",\"2.0\",\"1.8\",\"1.6\",\"2.8\",\"-1.4\",\"-0.2\",\"1.0\",\"2.2\",\"2.0\",\"3.2\",\"3.0\",\"2.8\",\"2.6\",\"-1.6\",\"-0.4\",\"0.8\",\"2.0\",\"1.8\",\"3.0\",\"2.8\",\"2.6\",\"2.4\"],\"x\":[0,1,2,3,4,5,6,7,8,0,1,2,3,4,5,6,7,8,0,1,2,3,4,5,6,7,8,0,1,2,3,4,5,6,7,8,0,1,2,3,4,5,6,7,8,0,1,2,3,4,5,6,7,8,0,1,2,3,4,5,6,7,8,0,1,2,3,4,5,6,7,8,0,1,2,3,4,5,6,7,8],\"y\":[0,0,0,0,0,0,0,0,0,1,1,1,1,1,1,1,1,1,2,2,2,2,2,2,2,2,2,3,3,3,3,3,3,3,3,3,4,4,4,4,4,4,4,4,4,5,5,5,5,5,5,5,5,5,6,6,6,6,6,6,6,6,6,7,7,7,7,7,7,7,7,7,8,8,8,8,8,8,8,8,8]},\"selected\":{\"id\":\"3098\"},\"selection_policy\":{\"id\":\"3099\"}},\"id\":\"2931\",\"type\":\"ColumnDataSource\"},{\"attributes\":{\"data_source\":{\"id\":\"2912\"},\"glyph\":{\"id\":\"2913\"},\"hover_glyph\":null,\"muted_glyph\":null,\"nonselection_glyph\":{\"id\":\"2914\"},\"view\":{\"id\":\"2916\"}},\"id\":\"2915\",\"type\":\"GlyphRenderer\"}],\"root_ids\":[\"2875\"]},\"title\":\"Bokeh Application\",\"version\":\"2.3.2\"}};\n",
       "  var render_items = [{\"docid\":\"e5344097-4895-4ba4-9da9-ad639b302efb\",\"root_ids\":[\"2875\"],\"roots\":{\"2875\":\"80016093-6e23-447a-a99f-b775657d7358\"}}];\n",
       "  root.Bokeh.embed.embed_items_notebook(docs_json, render_items);\n",
       "\n",
       "  }\n",
       "  if (root.Bokeh !== undefined) {\n",
       "    embed_document(root);\n",
       "  } else {\n",
       "    var attempts = 0;\n",
       "    var timer = setInterval(function(root) {\n",
       "      if (root.Bokeh !== undefined) {\n",
       "        clearInterval(timer);\n",
       "        embed_document(root);\n",
       "      } else {\n",
       "        attempts++;\n",
       "        if (attempts > 100) {\n",
       "          clearInterval(timer);\n",
       "          console.log(\"Bokeh: ERROR: Unable to run BokehJS code because BokehJS library is missing\");\n",
       "        }\n",
       "      }\n",
       "    }, 10, root)\n",
       "  }\n",
       "})(window);"
      ],
      "application/vnd.bokehjs_exec.v0+json": ""
     },
     "metadata": {
      "application/vnd.bokehjs_exec.v0+json": {
       "id": "2875"
      }
     },
     "output_type": "display_data"
    }
   ],
   "source": [
    "solver.solve(problem)"
   ]
  },
  {
   "cell_type": "code",
   "execution_count": 11,
   "metadata": {},
   "outputs": [],
   "source": [
    "solver.solve(problem).export_image(\"traceback.svg\")"
   ]
  },
  {
   "cell_type": "code",
   "execution_count": null,
   "metadata": {},
   "outputs": [],
   "source": []
  },
  {
   "cell_type": "code",
   "execution_count": 26,
   "metadata": {},
   "outputs": [
    {
     "name": "stdout",
     "output_type": "stream",
     "text": [
      "INDU    STRY\n",
      "||      ||  \n",
      "IN  TEREST  \n"
     ]
    }
   ],
   "source": [
    "import pyalign.utils\n",
    "import pyalign.solve\n",
    "import pyalign.gaps\n",
    "\n",
    "pf = pyalign.utils.SimpleProblemFactory(pyalign.utils.BinarySimilarity(eq=1, ne=-1))\n",
    "solver = pyalign.solve.GlobalSolver(gap_cost=pyalign.gaps.LinearGapCost(0.2), generate=\"alignment\")\n",
    "problem = pf.new_problem(\"INDUSTRY\", \"INTEREST\")\n",
    "alignment = solver.solve(problem)\n",
    "alignment"
   ]
  },
  {
   "cell_type": "code",
   "execution_count": 27,
   "metadata": {},
   "outputs": [
    {
     "data": {
      "text/plain": [
       "2.3999996185302734"
      ]
     },
     "execution_count": 27,
     "metadata": {},
     "output_type": "execute_result"
    }
   ],
   "source": [
    "alignment.score"
   ]
  },
  {
   "cell_type": "code",
   "execution_count": 28,
   "metadata": {},
   "outputs": [
    {
     "name": "stdout",
     "output_type": "stream",
     "text": [
      "CPU times: user 311 µs, sys: 0 ns, total: 311 µs\n",
      "Wall time: 315 µs\n"
     ]
    },
    {
     "data": {
      "text/plain": [
       "array([2.3999996, 2.3999996, 2.3999996, 2.3999996, 2.3999996, 1.       ,\n",
       "       2.3999996, 1.       ], dtype=float32)"
      ]
     },
     "execution_count": 28,
     "metadata": {},
     "output_type": "execute_result"
    }
   ],
   "source": [
    "pf = pyalign.utils.SimpleProblemFactory(pyalign.utils.BinarySimilarity(eq=1, ne=-1))\n",
    "solver = pyalign.solve.GlobalSolver(\n",
    "    gap_cost=pyalign.gaps.LinearGapCost(0.2), generate=\"score\", batch=True)\n",
    "problem = pf.new_problem(\"INDUSTRY\", \"INTEREST\")\n",
    "problem2 = pf.new_problem(\"INDUSTRY\", \"XNTEREST\")\n",
    "batch = pyalign.solve.ProblemBatch([\n",
    "    problem, problem, problem, problem,\n",
    "    problem, problem2, problem, problem2\n",
    "])\n",
    "\n",
    "%time solver.solve(batch) "
   ]
  },
  {
   "cell_type": "code",
   "execution_count": 13,
   "metadata": {},
   "outputs": [
    {
     "data": {
      "text/plain": [
       "8"
      ]
     },
     "execution_count": 13,
     "metadata": {},
     "output_type": "execute_result"
    }
   ],
   "source": [
    "solver.batch_size"
   ]
  },
  {
   "cell_type": "code",
   "execution_count": 21,
   "metadata": {},
   "outputs": [
    {
     "data": {
      "text/plain": [
       "{'build_matrix': '406317 ns', 'solve': '16462 ns'}"
      ]
     },
     "execution_count": 21,
     "metadata": {},
     "output_type": "execute_result"
    }
   ],
   "source": [
    "solver.times"
   ]
  },
  {
   "cell_type": "code",
   "execution_count": null,
   "metadata": {},
   "outputs": [],
   "source": []
  }
 ],
 "metadata": {
  "kernelspec": {
   "display_name": "Python 3",
   "language": "python",
   "name": "python3"
  },
  "language_info": {
   "codemirror_mode": {
    "name": "ipython",
    "version": 3
   },
   "file_extension": ".py",
   "mimetype": "text/x-python",
   "name": "python",
   "nbconvert_exporter": "python",
   "pygments_lexer": "ipython3",
   "version": "3.8.10"
  }
 },
 "nbformat": 4,
 "nbformat_minor": 4
}
